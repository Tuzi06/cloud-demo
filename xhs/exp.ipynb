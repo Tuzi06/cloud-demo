{
 "cells": [
  {
   "cell_type": "code",
   "execution_count": null,
   "metadata": {},
   "outputs": [],
   "source": [
    "import requests,json\n",
    "\n",
    "posts = requests.get('http://35.209.164.203:8080/download',timeout=100000).json() + json.load(open('result.json','r'))\n",
    "\n",
    "open('result2.json','w').write(json.dumps(posts,ensure_ascii=False,indent=4))"
   ]
  },
  {
   "cell_type": "code",
   "execution_count": null,
   "metadata": {},
   "outputs": [],
   "source": [
    "# 50000-len(posts)\n",
    "userlog = list(set([post['user-id'] for post in posts]))\n",
    "open('userlog.json','w').write(json.dumps(userlog,ensure_ascii=False,indent=4))"
   ]
  },
  {
   "cell_type": "code",
   "execution_count": null,
   "metadata": {},
   "outputs": [],
   "source": [
    "url = 'http://35.208.201.235:8080'\n",
    "url[:-5]"
   ]
  },
  {
   "cell_type": "code",
   "execution_count": null,
   "metadata": {},
   "outputs": [],
   "source": [
    "usertag = []\n",
    "for tag in [post['user-tag'] for post in posts]:\n",
    "    usertag += tag\n",
    "open('usertag.json','w').write(json.dumps(list(set(usertag)),ensure_ascii=False,indent=4))"
   ]
  },
  {
   "cell_type": "code",
   "execution_count": null,
   "metadata": {},
   "outputs": [],
   "source": [
    "import json\n",
    "from selenium import webdriver\n",
    "from bs4 import BeautifulSoup as bs\n",
    "\n",
    "result = json.load(open('xhs_posts_4w.json','r'))\n",
    "users = list(set([post['url'][:-24] for post in result]))\n",
    "users[:20]\n",
    "# len('64a04f1c00000000130313b1')"
   ]
  },
  {
   "cell_type": "code",
   "execution_count": null,
   "metadata": {},
   "outputs": [],
   "source": [
    "log = {'12': 758, '30': 203, '31': 300, '32': 434, '42': 215, '44': 295, '40': 184, '29': 5, '25': 4, '14': 2, '10': 382, '34': 1, '19': 4, '11': 528, '20': 3, '18': 2, '33': 2, '13': 3, '16': 1, '21': 2, '6': 1, '9': 4, '8': 2, '15': 3, '26': 2, '7': 1, '5': 1, '22': 2, '27': 1, '2': 1, '45': 1, '28': 1}\n",
    "dict(sorted(log.items()))"
   ]
  },
  {
   "cell_type": "code",
   "execution_count": null,
   "metadata": {},
   "outputs": [],
   "source": [
    "total = 0\n",
    "for i in log.keys():\n",
    "    total += int(i)*log[i]\n",
    "total\n"
   ]
  },
  {
   "cell_type": "code",
   "execution_count": null,
   "metadata": {},
   "outputs": [],
   "source": [
    "import json\n",
    "posts = json.load(open('xhs_posts_4w.json','r'))\n",
    "print(len(posts))\n",
    "usertag = []\n",
    "posttag = []\n",
    "id = [post['user-id'] for post in posts]\n",
    "for post in posts:\n",
    "    usertag += post['user-tag']\n",
    "    posttag += post['post']['tag']\n",
    "open('usertag.json','w').write(json.dumps(list(set(usertag)),ensure_ascii=False,indent=4))\n",
    "open('posttag.json','w').write(json.dumps(list(set(posttag)),ensure_ascii=False,indent=4))"
   ]
  },
  {
   "cell_type": "code",
   "execution_count": null,
   "metadata": {},
   "outputs": [],
   "source": [
    "import requests\n",
    "headers = {\n",
    "    'User-Agent': 'discover/8.6 (iPhone; iOS 16.6.1; Scale/3.00) Resolution/1290*2796 Version/8.6 Build/8060512 Device/(Apple Inc.;iPhone15,3) NetType/WiFi'\n",
    "}\n",
    "response = requests.get('https://www.xiaohongshu.com',headers=headers)\n",
    "from bs4 import BeautifulSoup as bs\n",
    "soup = bs(response.text,'html.parser')\n",
    "open('a.html','w').write(soup.prettify())"
   ]
  },
  {
   "cell_type": "code",
   "execution_count": null,
   "metadata": {},
   "outputs": [],
   "source": [
    "from selenium.webdriver import Chrome,ChromeOptions\n",
    "from selenium.webdriver.chrome.service import Service\n",
    "\n",
    "options = ChromeOptions()\n",
    "options.add_argument('disable-blink-features=AutomationControlled')\n",
    "# options.add_argument('headless')\n",
    "options.add_argument(\"--disable-dev-shm-usage\")\n",
    "options.add_argument('user-agent=discover/8.6 (iPhone; iOS 16.6.1; Scale/3.00) Resolution/1290*2796 Version/8.6 Build/8060512 Device/(Apple Inc.;iPhone15,3) NetType/WiFi')\n",
    "browser = Chrome(options=options, service=Service(executable_path='lowlevel/chromedriver-mac-arm64/chromedriver'))\n",
    "\n",
    "browser.get('https://www.xiaohongshu.com/')\n",
    "input('pause')\n",
    "browser.quit()"
   ]
  },
  {
   "cell_type": "code",
   "execution_count": null,
   "metadata": {},
   "outputs": [],
   "source": [
    "import json\n",
    "import time\n",
    "from selenium.webdriver import Chrome,ChromeOptions\n",
    "from selenium.webdriver.chrome.service import Service\n",
    "service = Service(executable_path='lowlevel/chromedriver-mac-arm64/chromedriver')\n",
    "options = ChromeOptions()\n",
    "options.add_argument('disable-blink-features=AutomationControlled')\n",
    "options.add_argument(\"--disable-dev-shm-usage\")\n",
    "\n",
    "browser = Chrome(service=service,options=options)\n",
    "\n",
    "users = json.load(open('1k_follow&10k_like.json','r'))\n",
    "for user in users[:100]:\n",
    "    browser.get(user)\n",
    "    time.sleep(3)\n",
    "browser.quit()"
   ]
  },
  {
   "cell_type": "code",
   "execution_count": 19,
   "metadata": {},
   "outputs": [
    {
     "name": "stdout",
     "output_type": "stream",
     "text": [
      "134242\n"
     ]
    },
    {
     "data": {
      "text/plain": [
       "392879857"
      ]
     },
     "execution_count": 19,
     "metadata": {},
     "output_type": "execute_result"
    }
   ],
   "source": [
    "import json\n",
    "posts = json.load(open('postFiltered.json','r'))\n",
    "users = [post['user-id']for post in posts]\n",
    "userLog = list(set([post['user-id'] for post in posts]))\n",
    "log = []\n",
    "for user in userLog:\n",
    "    length = len([post for post in posts if post['user-id'] == user])\n",
    "    if length <10:\n",
    "        log.append(user)\n",
    "# print(len(users))\n",
    "\n",
    "urllog = []\n",
    "\n",
    "linklog = [post['url'][:-24] for post in posts if post['user-id']not in log]\n",
    "linklog = list(set(linklog))\n",
    "open('userlog.json','w').write(json.dumps(linklog,indent=4))\n",
    "\n",
    "postsFiltered = []\n",
    "for post in posts:\n",
    "    if post['user-id'] not in log and post['url'] not in urllog:\n",
    "        postsFiltered.append(post)\n",
    "        urllog.append(post['url'])\n",
    "\n",
    "# for post in postsFiltered:\n",
    "    # post.pop('follow')\n",
    "print(len(postsFiltered))\n",
    "\n",
    "open('postFiltered.json','w').write(json.dumps(postsFiltered,ensure_ascii=False,indent=4))\n",
    "# 134242"
   ]
  },
  {
   "cell_type": "code",
   "execution_count": 11,
   "metadata": {},
   "outputs": [
    {
     "name": "stdout",
     "output_type": "stream",
     "text": [
      "奶fufu｜奶黄包｜奶油重点\n",
      "\n",
      "⭐猫舍介绍⭐预定详情\n",
      "\n",
      "这小子要超越爸爸了｜期待发展\n",
      "\n",
      "逛街偶遇告五人✌️\n",
      "\n",
      "儿子像爸爸｜短毛｜女儿像妈妈｜长毛\n",
      "\n",
      "睡醒飘走在天花板上｜小猫懵逼\n",
      "\n",
      "给你一爪爪｜小黑茶\n",
      "\n",
      "整天要抱抱｜粘人精\n",
      "\n",
      "小小黑拳｜锤你胸口\n",
      "\n",
      "今天的表情｜无辜\n",
      "\n",
      "娇滴滴的｜小黑茶\n",
      "\n",
      "虎里虎气｜蓝虎斑色｜英短\n",
      "\n",
      "奶fufu｜奶黄包｜奶油重点\n",
      "\n",
      "⭐猫舍介绍⭐预定详情\n",
      "\n",
      "娇滴滴的｜小黑茶\n",
      "\n",
      "虎里虎气｜蓝虎斑色｜英短\n",
      "\n",
      "总需要一些可爱｜来治愈破碎的心\n",
      "\n",
      "脏小孩｜小芋艿｜蓝山猫双色重点\n",
      "\n",
      "抱着抱着｜下一秒睡着了\n",
      "\n",
      "散养更好的社会化训练｜去新家前都保持散养\n",
      "\n",
      "小芋艿｜蓝山猫双色｜颜值到顶\n",
      "\n",
      "你有什么需求吗？｜海豹重点色\n",
      "\n",
      "洗了个澡｜香噗噗的｜蓝山猫双色重点\n",
      "\n",
      "关于小鹿重点色和小鹿双色｜不接排队的原因\n",
      "\n",
      "粉嘟嘟｜那就叫小粉扑｜小鹿双色重点\n",
      "\n",
      "又一只小可爱｜小鹿重点色\n",
      "\n",
      "起个什么名字呢｜小鹿双色重点｜超稀有的配色\n",
      "\n",
      "熊熊头｜黑红山猫重点色\n",
      "\n",
      "白天｜夜晚｜瞳孔｜收放｜小鹿双色重点\n",
      "\n"
     ]
    }
   ],
   "source": [
    "for p in [post for post in posts if post['user-id'] == 'micky_boy']:\n",
    "    print(p['post']['title']+'\\n')"
   ]
  }
 ],
 "metadata": {
  "kernelspec": {
   "display_name": "Python 3",
   "language": "python",
   "name": "python3"
  },
  "language_info": {
   "codemirror_mode": {
    "name": "ipython",
    "version": 3
   },
   "file_extension": ".py",
   "mimetype": "text/x-python",
   "name": "python",
   "nbconvert_exporter": "python",
   "pygments_lexer": "ipython3",
   "version": "3.11.2"
  },
  "orig_nbformat": 4
 },
 "nbformat": 4,
 "nbformat_minor": 2
}
