{
 "cells": [
  {
   "cell_type": "code",
   "execution_count": null,
   "metadata": {},
   "outputs": [],
   "source": [
    "from requests_html import HTMLSession\n",
    "import urllib3,requests\n",
    "from fake_headers import Headers\n",
    "\n",
    "import asyncio\n",
    "if asyncio.get_event_loop().is_running(): # Only patch if needed (i.e. running in Notebook, Spyder, etc)\n",
    "    import nest_asyncio\n",
    "    nest_asyncio.apply()\n",
    "\n",
    "\n",
    "# http = urllib3.PoolManager()\n",
    "# response = http.request(method = 'GET',\n",
    "#                    url = 'https://www.xiaohongshu.com/user/profile/5e424c1e0000000001002261',\n",
    "#                    headers = Headers( browser=\"chrome\",os=\"win\",headers=True).generate(),\n",
    "#                    preload_content = True)\n",
    "response = requests.get('https://www.xiaohongshu.com/user/profile/5e424c1e0000000001002261',\n",
    "                        headers = Headers( browser=\"chrome\",os=\"win\",headers=True).generate(),\n",
    "                        verify=False,\n",
    "                        timeout = 100,\n",
    "                        allow_redirects = True)\n",
    "session = HTMLSession()\n",
    "response = session.get('https://www.xiaohongshu.com/user/profile/5e424c1e0000000001002261')\n",
    "response.html.render()\n",
    "open('a.html','w').write(response.html.text)"
   ]
  },
  {
   "cell_type": "code",
   "execution_count": 3,
   "metadata": {},
   "outputs": [],
   "source": [
    "import pickle\n",
    "from lowlevel.xhs2 import prepare_driver\n",
    "from bs4 import BeautifulSoup as bs\n",
    "import time\n",
    "driver = prepare_driver(pickle.load(open('lowlevel/xhs_cookies.pkl','rb')),1,False)[0]\n",
    "driver.get('https://www.xiaohongshu.com/user/profile/5a0bb8c34eacab24243fb366')\n",
    "time.sleep(10)\n",
    "soup = bs(driver.page_source,'html.parser')\n",
    "open('a.html','w').write(driver.page_source)\n",
    "driver.quit()\n"
   ]
  },
  {
   "cell_type": "code",
   "execution_count": null,
   "metadata": {},
   "outputs": [],
   "source": [
    "open('a.html','w').write(driver.page_source)"
   ]
  },
  {
   "cell_type": "code",
   "execution_count": 4,
   "metadata": {},
   "outputs": [
    {
     "name": "stdout",
     "output_type": "stream",
     "text": [
      "{\n",
      "    \"user-id\": \"422328023\",\n",
      "    \"user-name\": \"zhp\",\n",
      "    \"follow\": \"100+\",\n",
      "    \"user-info\": \"\",\n",
      "    \"user-sex\": \"female\",\n",
      "    \"user-tag\": []\n",
      "}\n"
     ]
    }
   ],
   "source": [
    "from lowlevel.xhs2 import getUser\n",
    "from bs4 import BeautifulSoup as bs\n",
    "import json\n",
    "soup = bs(open('a.html','r').read(),'html.parser')\n",
    "user = getUser(soup)\n",
    "print(json.dumps(user,ensure_ascii=False,indent=4))"
   ]
  }
 ],
 "metadata": {
  "kernelspec": {
   "display_name": "Python 3",
   "language": "python",
   "name": "python3"
  },
  "language_info": {
   "codemirror_mode": {
    "name": "ipython",
    "version": 3
   },
   "file_extension": ".py",
   "mimetype": "text/x-python",
   "name": "python",
   "nbconvert_exporter": "python",
   "pygments_lexer": "ipython3",
   "version": "3.11.2"
  },
  "orig_nbformat": 4
 },
 "nbformat": 4,
 "nbformat_minor": 2
}
