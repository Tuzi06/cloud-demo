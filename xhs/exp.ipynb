{
 "cells": [
  {
   "cell_type": "code",
   "execution_count": null,
   "metadata": {},
   "outputs": [],
   "source": [
    "import requests,json\n",
    "\n",
    "posts = requests.get('http://35.209.164.203:8080/download',timeout=100000).json() + json.load(open('result.json','r'))\n",
    "\n",
    "open('result2.json','w').write(json.dumps(posts,ensure_ascii=False,indent=4))"
   ]
  },
  {
   "cell_type": "code",
   "execution_count": null,
   "metadata": {},
   "outputs": [],
   "source": [
    "# 50000-len(posts)\n",
    "userlog = list(set([post['user-id'] for post in posts]))\n",
    "open('userlog.json','w').write(json.dumps(userlog,ensure_ascii=False,indent=4))"
   ]
  },
  {
   "cell_type": "code",
   "execution_count": null,
   "metadata": {},
   "outputs": [],
   "source": [
    "url = 'http://35.208.201.235:8080'\n",
    "url[:-5]"
   ]
  },
  {
   "cell_type": "code",
   "execution_count": null,
   "metadata": {},
   "outputs": [],
   "source": [
    "usertag = []\n",
    "for tag in [post['user-tag'] for post in posts]:\n",
    "    usertag += tag\n",
    "open('usertag.json','w').write(json.dumps(list(set(usertag)),ensure_ascii=False,indent=4))"
   ]
  },
  {
   "cell_type": "code",
   "execution_count": null,
   "metadata": {},
   "outputs": [],
   "source": [
    "import json\n",
    "from selenium import webdriver\n",
    "from bs4 import BeautifulSoup as bs\n",
    "\n",
    "result = json.load(open('xhs_posts_4w.json','r'))\n",
    "users = list(set([post['url'][:-24] for post in result]))\n",
    "users[:20]\n",
    "# len('64a04f1c00000000130313b1')"
   ]
  },
  {
   "cell_type": "code",
   "execution_count": null,
   "metadata": {},
   "outputs": [],
   "source": [
    "log = {'12': 758, '30': 203, '31': 300, '32': 434, '42': 215, '44': 295, '40': 184, '29': 5, '25': 4, '14': 2, '10': 382, '34': 1, '19': 4, '11': 528, '20': 3, '18': 2, '33': 2, '13': 3, '16': 1, '21': 2, '6': 1, '9': 4, '8': 2, '15': 3, '26': 2, '7': 1, '5': 1, '22': 2, '27': 1, '2': 1, '45': 1, '28': 1}\n",
    "dict(sorted(log.items()))"
   ]
  },
  {
   "cell_type": "code",
   "execution_count": null,
   "metadata": {},
   "outputs": [],
   "source": [
    "total = 0\n",
    "for i in log.keys():\n",
    "    total += int(i)*log[i]\n",
    "total\n"
   ]
  },
  {
   "cell_type": "code",
   "execution_count": null,
   "metadata": {},
   "outputs": [],
   "source": [
    "import json\n",
    "posts = json.load(open('xhs_posts_4w.json','r'))\n",
    "print(len(posts))\n",
    "usertag = []\n",
    "posttag = []\n",
    "id = [post['user-id'] for post in posts]\n",
    "for post in posts:\n",
    "    usertag += post['user-tag']\n",
    "    posttag += post['post']['tag']\n",
    "open('usertag.json','w').write(json.dumps(list(set(usertag)),ensure_ascii=False,indent=4))\n",
    "open('posttag.json','w').write(json.dumps(list(set(posttag)),ensure_ascii=False,indent=4))"
   ]
  },
  {
   "cell_type": "code",
   "execution_count": null,
   "metadata": {},
   "outputs": [],
   "source": [
    "import requests\n",
    "headers = {\n",
    "    'User-Agent': 'discover/8.6 (iPhone; iOS 16.6.1; Scale/3.00) Resolution/1290*2796 Version/8.6 Build/8060512 Device/(Apple Inc.;iPhone15,3) NetType/WiFi'\n",
    "}\n",
    "response = requests.get('https://www.xiaohongshu.com',headers=headers)\n",
    "from bs4 import BeautifulSoup as bs\n",
    "soup = bs(response.text,'html.parser')\n",
    "open('a.html','w').write(soup.prettify())"
   ]
  },
  {
   "cell_type": "code",
   "execution_count": null,
   "metadata": {},
   "outputs": [],
   "source": [
    "from selenium.webdriver import Chrome,ChromeOptions\n",
    "from selenium.webdriver.chrome.service import Service\n",
    "\n",
    "options = ChromeOptions()\n",
    "options.add_argument('disable-blink-features=AutomationControlled')\n",
    "# options.add_argument('headless')\n",
    "options.add_argument(\"--disable-dev-shm-usage\")\n",
    "options.add_argument('user-agent=discover/8.6 (iPhone; iOS 16.6.1; Scale/3.00) Resolution/1290*2796 Version/8.6 Build/8060512 Device/(Apple Inc.;iPhone15,3) NetType/WiFi')\n",
    "browser = Chrome(options=options, service=Service(executable_path='lowlevel/chromedriver-mac-arm64/chromedriver'))\n",
    "\n",
    "browser.get('https://www.xiaohongshu.com/')\n",
    "input('pause')\n",
    "browser.quit()"
   ]
  },
  {
   "cell_type": "code",
   "execution_count": 1,
   "metadata": {},
   "outputs": [
    {
     "data": {
      "text/plain": [
       "True"
      ]
     },
     "execution_count": 1,
     "metadata": {},
     "output_type": "execute_result"
    }
   ],
   "source": [
    "'4.7万' < '4700'"
   ]
  }
 ],
 "metadata": {
  "kernelspec": {
   "display_name": "Python 3",
   "language": "python",
   "name": "python3"
  },
  "language_info": {
   "codemirror_mode": {
    "name": "ipython",
    "version": 3
   },
   "file_extension": ".py",
   "mimetype": "text/x-python",
   "name": "python",
   "nbconvert_exporter": "python",
   "pygments_lexer": "ipython3",
   "version": "3.10.12"
  },
  "orig_nbformat": 4
 },
 "nbformat": 4,
 "nbformat_minor": 2
}
