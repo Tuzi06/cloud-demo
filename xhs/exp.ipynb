{
 "cells": [
  {
   "cell_type": "code",
   "execution_count": 11,
   "metadata": {},
   "outputs": [
    {
     "data": {
      "text/plain": [
       "122410635"
      ]
     },
     "execution_count": 11,
     "metadata": {},
     "output_type": "execute_result"
    }
   ],
   "source": [
    "import requests,json\n",
    "\n",
    "posts = requests.get('http://35.209.164.203:8080/download',timeout=100000).json() + json.load(open('result.json','r'))\n",
    "\n",
    "open('result2.json','w').write(json.dumps(posts,ensure_ascii=False,indent=4))"
   ]
  },
  {
   "cell_type": "code",
   "execution_count": 21,
   "metadata": {},
   "outputs": [
    {
     "data": {
      "text/plain": [
       "58375"
      ]
     },
     "execution_count": 21,
     "metadata": {},
     "output_type": "execute_result"
    }
   ],
   "source": [
    "# 50000-len(posts)\n",
    "userlog = list(set([post['user-id'] for post in posts]))\n",
    "open('userlog.json','w').write(json.dumps(userlog,ensure_ascii=False,indent=4))"
   ]
  },
  {
   "cell_type": "code",
   "execution_count": 2,
   "metadata": {},
   "outputs": [
    {
     "data": {
      "text/plain": [
       "'http://35.208.201.235'"
      ]
     },
     "execution_count": 2,
     "metadata": {},
     "output_type": "execute_result"
    }
   ],
   "source": [
    "url = 'http://35.208.201.235:8080'\n",
    "url[:-5]"
   ]
  },
  {
   "cell_type": "code",
   "execution_count": 32,
   "metadata": {},
   "outputs": [
    {
     "data": {
      "text/plain": [
       "9049"
      ]
     },
     "execution_count": 32,
     "metadata": {},
     "output_type": "execute_result"
    }
   ],
   "source": [
    "usertag = []\n",
    "for tag in [post['user-tag'] for post in posts]:\n",
    "    usertag += tag\n",
    "open('usertag.json','w').write(json.dumps(list(set(usertag)),ensure_ascii=False,indent=4))"
   ]
  },
  {
   "cell_type": "code",
   "execution_count": 6,
   "metadata": {},
   "outputs": [
    {
     "data": {
      "text/plain": [
       "['https://www.xiaohongshu.com/user/profile/5575565d62a60c113c6b0a80/',\n",
       " 'https://www.xiaohongshu.com/user/profile/5e16018d0000000001000fdb/',\n",
       " 'https://www.xiaohongshu.com/user/profile/5e0465420000000001003fc9/',\n",
       " 'https://www.xiaohongshu.com/user/profile/6316e355000000001200f5e6/',\n",
       " 'https://www.xiaohongshu.com/user/profile/5b4b5b084eacab025920c63f/',\n",
       " 'https://www.xiaohongshu.com/user/profile/56cfd7511c07df6642493215/',\n",
       " 'https://www.xiaohongshu.com/user/profile/607e376b000000000100a05b/',\n",
       " 'https://www.xiaohongshu.com/user/profile/5d0100fd000000001002f3d9/',\n",
       " 'https://www.xiaohongshu.com/user/profile/592d806150c4b452495a7140/',\n",
       " 'https://www.xiaohongshu.com/user/profile/5e0743c90000000001004654/',\n",
       " 'https://www.xiaohongshu.com/user/profile/5eecbf140000000001007b7d/',\n",
       " 'https://www.xiaohongshu.com/user/profile/63bbed17000000002702a630/',\n",
       " 'https://www.xiaohongshu.com/user/profile/5ce0ba7c0000000010021110/',\n",
       " 'https://www.xiaohongshu.com/user/profile/5b1e07a4e8ac2b0f91c38d4b/',\n",
       " 'https://www.xiaohongshu.com/user/profile/559f6702e4b1cf5f10c57818/',\n",
       " 'https://www.xiaohongshu.com/user/profile/5cd2c906000000001100523b/',\n",
       " 'https://www.xiaohongshu.com/user/profile/5b08359cf7e8b9112d245754/',\n",
       " 'https://www.xiaohongshu.com/user/profile/565af88182718c3627f22764/',\n",
       " 'https://www.xiaohongshu.com/user/profile/5ed6684400000000010035e3/',\n",
       " 'https://www.xiaohongshu.com/user/profile/6448872a0000000010025b27/']"
      ]
     },
     "execution_count": 6,
     "metadata": {},
     "output_type": "execute_result"
    }
   ],
   "source": [
    "import json\n",
    "from selenium import webdriver\n",
    "from bs4 import BeautifulSoup as bs\n",
    "\n",
    "result = json.load(open('xhs_posts_4w.json','r'))\n",
    "users = list(set([post['url'][:-24] for post in result]))\n",
    "users[:20]\n",
    "# len('64a04f1c00000000130313b1')"
   ]
  }
 ],
 "metadata": {
  "kernelspec": {
   "display_name": "Python 3",
   "language": "python",
   "name": "python3"
  },
  "language_info": {
   "codemirror_mode": {
    "name": "ipython",
    "version": 3
   },
   "file_extension": ".py",
   "mimetype": "text/x-python",
   "name": "python",
   "nbconvert_exporter": "python",
   "pygments_lexer": "ipython3",
   "version": "3.11.2"
  },
  "orig_nbformat": 4
 },
 "nbformat": 4,
 "nbformat_minor": 2
}
