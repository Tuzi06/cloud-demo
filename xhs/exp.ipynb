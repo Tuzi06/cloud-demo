{
 "cells": [
  {
   "cell_type": "code",
   "execution_count": null,
   "metadata": {},
   "outputs": [],
   "source": [
    "from requests_html import HTMLSession\n",
    "import urllib3,requests\n",
    "from fake_headers import Headers\n",
    "\n",
    "import asyncio\n",
    "if asyncio.get_event_loop().is_running(): # Only patch if needed (i.e. running in Notebook, Spyder, etc)\n",
    "    import nest_asyncio\n",
    "    nest_asyncio.apply()\n",
    "\n",
    "\n",
    "# http = urllib3.PoolManager()\n",
    "# response = http.request(method = 'GET',\n",
    "#                    url = 'https://www.xiaohongshu.com/user/profile/5e424c1e0000000001002261',\n",
    "#                    headers = Headers( browser=\"chrome\",os=\"win\",headers=True).generate(),\n",
    "#                    preload_content = True)\n",
    "response = requests.get('https://www.xiaohongshu.com/user/profile/5e424c1e0000000001002261',\n",
    "                        headers = Headers( browser=\"chrome\",os=\"win\",headers=True).generate(),\n",
    "                        verify=False,\n",
    "                        timeout = 100,\n",
    "                        allow_redirects = True)\n",
    "session = HTMLSession()\n",
    "response = session.get('https://www.xiaohongshu.com/user/profile/5e424c1e0000000001002261')\n",
    "response.html.render()\n",
    "open('a.html','w').write(response.html.text)"
   ]
  },
  {
   "cell_type": "code",
   "execution_count": null,
   "metadata": {},
   "outputs": [],
   "source": [
    "import pickle\n",
    "from lowlevel.xhs2 import prepare_driver\n",
    "from bs4 import BeautifulSoup as bs\n",
    "import time\n",
    "driver = prepare_driver(pickle.load(open('lowlevel/xhs_cookies.pkl','rb')),1,False)[0]\n",
    "driver.get('https://www.xiaohongshu.com/user/profile/5a0bb8c34eacab24243fb366')\n",
    "time.sleep(10)\n",
    "soup = bs(driver.page_source,'html.parser')\n",
    "open('a.html','w').write(driver.page_source)\n",
    "driver.quit()\n"
   ]
  },
  {
   "cell_type": "code",
   "execution_count": null,
   "metadata": {},
   "outputs": [],
   "source": [
    "open('a.html','w').write(driver.page_source)"
   ]
  },
  {
   "cell_type": "code",
   "execution_count": null,
   "metadata": {},
   "outputs": [],
   "source": [
    "from lowlevel.xhs2 import getUser\n",
    "from bs4 import BeautifulSoup as bs\n",
    "import json\n",
    "soup = bs(open('a.html','r').read(),'html.parser')\n",
    "user = getUser(soup)\n",
    "print(json.dumps(user,ensure_ascii=False,indent=4))"
   ]
  },
  {
   "cell_type": "code",
   "execution_count": 4,
   "metadata": {},
   "outputs": [
    {
     "name": "stdout",
     "output_type": "stream",
     "text": [
      "https://www.xiaohongshu.com/user/profile/5a6d37f911be100505ad38d2/628c9607000000000102a385\n"
     ]
    },
    {
     "ename": "TypeError",
     "evalue": "'NoneType' object is not subscriptable",
     "output_type": "error",
     "traceback": [
      "\u001b[0;31m---------------------------------------------------------------------------\u001b[0m",
      "\u001b[0;31mTypeError\u001b[0m                                 Traceback (most recent call last)",
      "Cell \u001b[0;32mIn[4], line 20\u001b[0m\n\u001b[1;32m     18\u001b[0m     wait_for_page(scraper,\u001b[39m'\u001b[39m\u001b[39mcomment-item\u001b[39m\u001b[39m'\u001b[39m)\n\u001b[1;32m     19\u001b[0m     soup1 \u001b[39m=\u001b[39m bs(scraper\u001b[39m.\u001b[39mpage_source,\u001b[39m'\u001b[39m\u001b[39mhtml.parser\u001b[39m\u001b[39m'\u001b[39m)\n\u001b[0;32m---> 20\u001b[0m     idx,post\u001b[39m=\u001b[39m grabing(soup1,user,idx)\n\u001b[1;32m     21\u001b[0m     posts\u001b[39m.\u001b[39mappend(post)\n\u001b[1;32m     22\u001b[0m driver\u001b[39m.\u001b[39mquit()\n",
      "File \u001b[0;32m~/Documents/code/cloud-demo/xhs/lowlevel/xhs2.py:87\u001b[0m, in \u001b[0;36mgrabing\u001b[0;34m(soup, user, idx)\u001b[0m\n\u001b[1;32m     85\u001b[0m findNoteContent(soup,post[\u001b[39m'\u001b[39m\u001b[39mpost\u001b[39m\u001b[39m'\u001b[39m])\n\u001b[1;32m     86\u001b[0m findComment(soup,post[\u001b[39m'\u001b[39m\u001b[39mpost\u001b[39m\u001b[39m'\u001b[39m])\n\u001b[0;32m---> 87\u001b[0m idx \u001b[39m=\u001b[39m findPicture(soup,post,idx)\n\u001b[1;32m     88\u001b[0m \u001b[39mreturn\u001b[39;00m idx,post\n",
      "File \u001b[0;32m~/Documents/code/cloud-demo/xhs/lowlevel/xhs2.py:77\u001b[0m, in \u001b[0;36mfindPicture\u001b[0;34m(soup, content, idx)\u001b[0m\n\u001b[1;32m     74\u001b[0m photoUrls \u001b[39m=\u001b[39m []\n\u001b[1;32m     75\u001b[0m \u001b[39mfor\u001b[39;00m pic \u001b[39min\u001b[39;00m pics:\n\u001b[1;32m     76\u001b[0m     \u001b[39m# print(pic['style'])\u001b[39;00m\n\u001b[0;32m---> 77\u001b[0m     photoUrls\u001b[39m.\u001b[39mappend({\u001b[39mf\u001b[39m\u001b[39m\"\u001b[39m\u001b[39m{\u001b[39;00mcontent[\u001b[39m'\u001b[39m\u001b[39muser-id\u001b[39m\u001b[39m'\u001b[39m]\u001b[39m}\u001b[39;00m\u001b[39m-\u001b[39m\u001b[39m{\u001b[39;00midx\u001b[39m}\u001b[39;00m\u001b[39m\"\u001b[39m:pic[\u001b[39m'\u001b[39;49m\u001b[39mstyle\u001b[39;49m\u001b[39m'\u001b[39;49m]\u001b[39m.\u001b[39msplit(\u001b[39m'\u001b[39m\u001b[39m\"\u001b[39m\u001b[39m'\u001b[39m)[\u001b[39m1\u001b[39m]\u001b[39m.\u001b[39mreplace(\u001b[39m'\u001b[39m\u001b[39m&quot\u001b[39m\u001b[39m'\u001b[39m,\u001b[39m'\u001b[39m\u001b[39m'\u001b[39m)})\n\u001b[1;32m     78\u001b[0m     idx \u001b[39m+\u001b[39m\u001b[39m=\u001b[39m \u001b[39m1\u001b[39m\n\u001b[1;32m     79\u001b[0m content[\u001b[39m'\u001b[39m\u001b[39mpost\u001b[39m\u001b[39m'\u001b[39m][\u001b[39m'\u001b[39m\u001b[39mpictures\u001b[39m\u001b[39m'\u001b[39m] \u001b[39m=\u001b[39m photoUrls\n",
      "\u001b[0;31mTypeError\u001b[0m: 'NoneType' object is not subscriptable"
     ]
    }
   ],
   "source": [
    "import pickle,json\n",
    "from lowlevel.xhs2 import prepare_driver,getUser,grabing,wait_for_page\n",
    "from bs4 import BeautifulSoup as bs\n",
    "import time\n",
    "driver = prepare_driver([],1)[0]\n",
    "scraper = prepare_driver([],1)[0]\n",
    "time.sleep(5)\n",
    "driver.get('https://www.xiaohongshu.com/user/profile/5a6d37f911be100505ad38d2')\n",
    "time.sleep(2)\n",
    "soup = bs(driver.page_source,'html.parser')\n",
    "user = getUser(soup)\n",
    "links = [\"https://www.xiaohongshu.com\"+a['href'] for a in soup.findAll('a','cover ld mask')]\n",
    "posts = []\n",
    "idx = 0\n",
    "for link in links[:5]:\n",
    "    print(link)\n",
    "    scraper.get(link)\n",
    "    wait_for_page(scraper,'comment-item')\n",
    "    soup1 = bs(scraper.page_source,'html.parser')\n",
    "    idx,post= grabing(soup1,user,idx)\n",
    "    posts.append(post)\n",
    "driver.quit()\n",
    "scraper.quit()\n",
    "print(json.dumps(posts,ensure_ascii=False,indent=4))"
   ]
  },
  {
   "cell_type": "code",
   "execution_count": null,
   "metadata": {},
   "outputs": [],
   "source": [
    "s = 'background-image: url(&quot;http://sns-webpic-qc.xhscdn.com/202308241422/d88774f55a2a38dc2c1578aebabd02a2/1040g00830o2u83bcic0g4a14btrvie6idkkk1p8!nd_whgt34_webp_wm_1&quot;); background-size: contain; transition: background 0.2s ease 0s;'\n",
    "s.split(';')"
   ]
  }
 ],
 "metadata": {
  "kernelspec": {
   "display_name": "Python 3",
   "language": "python",
   "name": "python3"
  },
  "language_info": {
   "codemirror_mode": {
    "name": "ipython",
    "version": 3
   },
   "file_extension": ".py",
   "mimetype": "text/x-python",
   "name": "python",
   "nbconvert_exporter": "python",
   "pygments_lexer": "ipython3",
   "version": "3.11.2"
  },
  "orig_nbformat": 4
 },
 "nbformat": 4,
 "nbformat_minor": 2
}
