{
 "cells": [
  {
   "cell_type": "code",
   "execution_count": 12,
   "metadata": {},
   "outputs": [
    {
     "data": {
      "text/plain": [
       "362160"
      ]
     },
     "execution_count": 12,
     "metadata": {},
     "output_type": "execute_result"
    }
   ],
   "source": [
    "import requests \n",
    "\n",
    "url = 'https://www.instagram.com/p/CuhBDmjvyC1/'\n",
    "response = requests.get(url)\n",
    "open('a.html','w').write(response.text)"
   ]
  },
  {
   "cell_type": "code",
   "execution_count": 20,
   "metadata": {},
   "outputs": [
    {
     "name": "stdout",
     "output_type": "stream",
     "text": [
      "{\"users\":[],\"places\":[],\"hashtags\":[],\"has_more\":false,\"rank_token\":\"8429e696-f94b-4a91-9590-c902d8ac05e7\",\"clear_client_cache\":null,\"status\":\"ok\"}\n"
     ]
    }
   ],
   "source": [
    "from selenium.webdriver import ChromeOptions\n",
    "from selenium.webdriver.chrome.service import Service\n",
    "from seleniumwire import webdriver\n",
    "import pickle,json\n",
    "\n",
    "cookies = pickle.load(open('../cookies/ins_cookies.pkl','rb'))\n",
    "options = ChromeOptions()\n",
    "options.add_argument('disable-blink-features=AutomationControlled')\n",
    "# options.add_argument('headless')\n",
    "service = Service(executable_path='../chromedriver_mac_arm/chromedriver')\n",
    "driver = webdriver.Chrome(options=options,service=service)\n",
    "driver.get(url)\n",
    "print(type(driver.requests[0].headers.text))\n",
    "# open('header.json','w').write(json.dumps(driver.requests[0].headers,indent=4))\n",
    "driver.quit()"
   ]
  }
 ],
 "metadata": {
  "kernelspec": {
   "display_name": "Python 3",
   "language": "python",
   "name": "python3"
  },
  "language_info": {
   "codemirror_mode": {
    "name": "ipython",
    "version": 3
   },
   "file_extension": ".py",
   "mimetype": "text/x-python",
   "name": "python",
   "nbconvert_exporter": "python",
   "pygments_lexer": "ipython3",
   "version": "3.11.2"
  },
  "orig_nbformat": 4
 },
 "nbformat": 4,
 "nbformat_minor": 2
}
