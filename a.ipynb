{
 "cells": [
  {
   "cell_type": "code",
   "execution_count": 14,
   "metadata": {},
   "outputs": [
    {
     "ename": "InvalidCookieDomainException",
     "evalue": "Message: invalid cookie domain\n  (Session info: chrome=115.0.5790.110)\nStacktrace:\n#0 0x562bf2c2f783 <unknown>\n#1 0x562bf295b766 <unknown>\n#2 0x562bf29e3cb8 <unknown>\n#3 0x562bf29bae02 <unknown>\n#4 0x562bf29d30d9 <unknown>\n#5 0x562bf29babd3 <unknown>\n#6 0x562bf298ea7b <unknown>\n#7 0x562bf298f81e <unknown>\n#8 0x562bf2bf0e98 <unknown>\n#9 0x562bf2bf4d67 <unknown>\n#10 0x562bf2bff32c <unknown>\n#11 0x562bf2bf5993 <unknown>\n#12 0x562bf2bc4827 <unknown>\n#13 0x562bf2c198a8 <unknown>\n#14 0x562bf2c19a36 <unknown>\n#15 0x562bf2c285f3 <unknown>\n#16 0x7efe1b230609 start_thread\n",
     "output_type": "error",
     "traceback": [
      "\u001b[0;31m---------------------------------------------------------------------------\u001b[0m",
      "\u001b[0;31mInvalidCookieDomainException\u001b[0m              Traceback (most recent call last)",
      "Cell \u001b[0;32mIn[14], line 14\u001b[0m\n\u001b[1;32m     12\u001b[0m     \u001b[39mif\u001b[39;00m \u001b[39misinstance\u001b[39m(cookie\u001b[39m.\u001b[39mget(\u001b[39m'\u001b[39m\u001b[39mexpiry\u001b[39m\u001b[39m'\u001b[39m), \u001b[39mfloat\u001b[39m):\n\u001b[1;32m     13\u001b[0m         cookie[\u001b[39m'\u001b[39m\u001b[39mexpiry\u001b[39m\u001b[39m'\u001b[39m] \u001b[39m=\u001b[39m \u001b[39mint\u001b[39m(cookie[\u001b[39m'\u001b[39m\u001b[39mexpiry\u001b[39m\u001b[39m'\u001b[39m])\n\u001b[0;32m---> 14\u001b[0m     driver\u001b[39m.\u001b[39;49madd_cookie(cookie)\n\u001b[1;32m     15\u001b[0m driver\u001b[39m.\u001b[39mrefresh()\n",
      "File \u001b[0;32m~/.local/lib/python3.10/site-packages/selenium/webdriver/remote/webdriver.py:633\u001b[0m, in \u001b[0;36mWebDriver.add_cookie\u001b[0;34m(self, cookie_dict)\u001b[0m\n\u001b[1;32m    631\u001b[0m \u001b[39mif\u001b[39;00m \u001b[39m\"\u001b[39m\u001b[39msameSite\u001b[39m\u001b[39m\"\u001b[39m \u001b[39min\u001b[39;00m cookie_dict:\n\u001b[1;32m    632\u001b[0m     \u001b[39massert\u001b[39;00m cookie_dict[\u001b[39m\"\u001b[39m\u001b[39msameSite\u001b[39m\u001b[39m\"\u001b[39m] \u001b[39min\u001b[39;00m [\u001b[39m\"\u001b[39m\u001b[39mStrict\u001b[39m\u001b[39m\"\u001b[39m, \u001b[39m\"\u001b[39m\u001b[39mLax\u001b[39m\u001b[39m\"\u001b[39m, \u001b[39m\"\u001b[39m\u001b[39mNone\u001b[39m\u001b[39m\"\u001b[39m]\n\u001b[0;32m--> 633\u001b[0m     \u001b[39mself\u001b[39;49m\u001b[39m.\u001b[39;49mexecute(Command\u001b[39m.\u001b[39;49mADD_COOKIE, {\u001b[39m\"\u001b[39;49m\u001b[39mcookie\u001b[39;49m\u001b[39m\"\u001b[39;49m: cookie_dict})\n\u001b[1;32m    634\u001b[0m \u001b[39melse\u001b[39;00m:\n\u001b[1;32m    635\u001b[0m     \u001b[39mself\u001b[39m\u001b[39m.\u001b[39mexecute(Command\u001b[39m.\u001b[39mADD_COOKIE, {\u001b[39m\"\u001b[39m\u001b[39mcookie\u001b[39m\u001b[39m\"\u001b[39m: cookie_dict})\n",
      "File \u001b[0;32m~/.local/lib/python3.10/site-packages/selenium/webdriver/remote/webdriver.py:346\u001b[0m, in \u001b[0;36mWebDriver.execute\u001b[0;34m(self, driver_command, params)\u001b[0m\n\u001b[1;32m    344\u001b[0m response \u001b[39m=\u001b[39m \u001b[39mself\u001b[39m\u001b[39m.\u001b[39mcommand_executor\u001b[39m.\u001b[39mexecute(driver_command, params)\n\u001b[1;32m    345\u001b[0m \u001b[39mif\u001b[39;00m response:\n\u001b[0;32m--> 346\u001b[0m     \u001b[39mself\u001b[39;49m\u001b[39m.\u001b[39;49merror_handler\u001b[39m.\u001b[39;49mcheck_response(response)\n\u001b[1;32m    347\u001b[0m     response[\u001b[39m\"\u001b[39m\u001b[39mvalue\u001b[39m\u001b[39m\"\u001b[39m] \u001b[39m=\u001b[39m \u001b[39mself\u001b[39m\u001b[39m.\u001b[39m_unwrap_value(response\u001b[39m.\u001b[39mget(\u001b[39m\"\u001b[39m\u001b[39mvalue\u001b[39m\u001b[39m\"\u001b[39m, \u001b[39mNone\u001b[39;00m))\n\u001b[1;32m    348\u001b[0m     \u001b[39mreturn\u001b[39;00m response\n",
      "File \u001b[0;32m~/.local/lib/python3.10/site-packages/selenium/webdriver/remote/errorhandler.py:245\u001b[0m, in \u001b[0;36mErrorHandler.check_response\u001b[0;34m(self, response)\u001b[0m\n\u001b[1;32m    243\u001b[0m         alert_text \u001b[39m=\u001b[39m value[\u001b[39m\"\u001b[39m\u001b[39malert\u001b[39m\u001b[39m\"\u001b[39m]\u001b[39m.\u001b[39mget(\u001b[39m\"\u001b[39m\u001b[39mtext\u001b[39m\u001b[39m\"\u001b[39m)\n\u001b[1;32m    244\u001b[0m     \u001b[39mraise\u001b[39;00m exception_class(message, screen, stacktrace, alert_text)  \u001b[39m# type: ignore[call-arg]  # mypy is not smart enough here\u001b[39;00m\n\u001b[0;32m--> 245\u001b[0m \u001b[39mraise\u001b[39;00m exception_class(message, screen, stacktrace)\n",
      "\u001b[0;31mInvalidCookieDomainException\u001b[0m: Message: invalid cookie domain\n  (Session info: chrome=115.0.5790.110)\nStacktrace:\n#0 0x562bf2c2f783 <unknown>\n#1 0x562bf295b766 <unknown>\n#2 0x562bf29e3cb8 <unknown>\n#3 0x562bf29bae02 <unknown>\n#4 0x562bf29d30d9 <unknown>\n#5 0x562bf29babd3 <unknown>\n#6 0x562bf298ea7b <unknown>\n#7 0x562bf298f81e <unknown>\n#8 0x562bf2bf0e98 <unknown>\n#9 0x562bf2bf4d67 <unknown>\n#10 0x562bf2bff32c <unknown>\n#11 0x562bf2bf5993 <unknown>\n#12 0x562bf2bc4827 <unknown>\n#13 0x562bf2c198a8 <unknown>\n#14 0x562bf2c19a36 <unknown>\n#15 0x562bf2c285f3 <unknown>\n#16 0x7efe1b230609 start_thread\n"
     ]
    }
   ],
   "source": [
    "from selenium import webdriver\n",
    "from selenium.webdriver import ChromeOptions\n",
    "from selenium.webdriver.common.by import By\n",
    "import pickle\n",
    "\n",
    "options = ChromeOptions()\n",
    "options.add_argument('--ignore-ssl-errors=yes')\n",
    "options.add_argument('--ignore-certificate-errors')\n",
    "driver = webdriver.Remote(command_executor='http://172.17.0.1:4444',options=options)\n",
    "cookies = pickle.load(open('lowlevel/xhs_cookies.pkl','rb'))\n",
    "for cookie in cookies: \n",
    "    if isinstance(cookie.get('expiry'), float):\n",
    "        cookie['expiry'] = int(cookie['expiry'])\n",
    "    driver.add_cookie(cookie)\n",
    "driver.refresh()"
   ]
  },
  {
   "cell_type": "code",
   "execution_count": 11,
   "metadata": {},
   "outputs": [
    {
     "ename": "InvalidSessionIdException",
     "evalue": "Message: Unable to execute request for an existing session: Unable to find session with ID: 5628ed2dcd8d35db3e1e876d7e12566f\nBuild info: version: '4.11.0', revision: '040bc5406b'\nSystem info: os.name: 'Linux', os.arch: 'amd64', os.version: '5.19.0-50-generic', java.version: '11.0.20'\nDriver info: driver.version: unknown\n",
     "output_type": "error",
     "traceback": [
      "\u001b[0;31m---------------------------------------------------------------------------\u001b[0m",
      "\u001b[0;31mInvalidSessionIdException\u001b[0m                 Traceback (most recent call last)",
      "Cell \u001b[0;32mIn[11], line 1\u001b[0m\n\u001b[0;32m----> 1\u001b[0m driver\u001b[39m.\u001b[39;49mget(\u001b[39m'\u001b[39;49m\u001b[39mhttps://www.xiaohongshu.com/explore\u001b[39;49m\u001b[39m'\u001b[39;49m)\n\u001b[1;32m      2\u001b[0m \u001b[39mprint\u001b[39m(driver\u001b[39m.\u001b[39mfind_element(By\u001b[39m.\u001b[39mTAG_NAME,\u001b[39m'\u001b[39m\u001b[39mbody\u001b[39m\u001b[39m'\u001b[39m)\u001b[39m.\u001b[39mget_attribute(\u001b[39m'\u001b[39m\u001b[39minnerHtml\u001b[39m\u001b[39m'\u001b[39m))\n\u001b[1;32m      3\u001b[0m driver\u001b[39m.\u001b[39mquit()\n",
      "File \u001b[0;32m~/.local/lib/python3.10/site-packages/selenium/webdriver/remote/webdriver.py:355\u001b[0m, in \u001b[0;36mWebDriver.get\u001b[0;34m(self, url)\u001b[0m\n\u001b[1;32m    353\u001b[0m \u001b[39mdef\u001b[39;00m \u001b[39mget\u001b[39m(\u001b[39mself\u001b[39m, url: \u001b[39mstr\u001b[39m) \u001b[39m-\u001b[39m\u001b[39m>\u001b[39m \u001b[39mNone\u001b[39;00m:\n\u001b[1;32m    354\u001b[0m \u001b[39m    \u001b[39m\u001b[39m\"\"\"Loads a web page in the current browser session.\"\"\"\u001b[39;00m\n\u001b[0;32m--> 355\u001b[0m     \u001b[39mself\u001b[39;49m\u001b[39m.\u001b[39;49mexecute(Command\u001b[39m.\u001b[39;49mGET, {\u001b[39m\"\u001b[39;49m\u001b[39murl\u001b[39;49m\u001b[39m\"\u001b[39;49m: url})\n",
      "File \u001b[0;32m~/.local/lib/python3.10/site-packages/selenium/webdriver/remote/webdriver.py:346\u001b[0m, in \u001b[0;36mWebDriver.execute\u001b[0;34m(self, driver_command, params)\u001b[0m\n\u001b[1;32m    344\u001b[0m response \u001b[39m=\u001b[39m \u001b[39mself\u001b[39m\u001b[39m.\u001b[39mcommand_executor\u001b[39m.\u001b[39mexecute(driver_command, params)\n\u001b[1;32m    345\u001b[0m \u001b[39mif\u001b[39;00m response:\n\u001b[0;32m--> 346\u001b[0m     \u001b[39mself\u001b[39;49m\u001b[39m.\u001b[39;49merror_handler\u001b[39m.\u001b[39;49mcheck_response(response)\n\u001b[1;32m    347\u001b[0m     response[\u001b[39m\"\u001b[39m\u001b[39mvalue\u001b[39m\u001b[39m\"\u001b[39m] \u001b[39m=\u001b[39m \u001b[39mself\u001b[39m\u001b[39m.\u001b[39m_unwrap_value(response\u001b[39m.\u001b[39mget(\u001b[39m\"\u001b[39m\u001b[39mvalue\u001b[39m\u001b[39m\"\u001b[39m, \u001b[39mNone\u001b[39;00m))\n\u001b[1;32m    348\u001b[0m     \u001b[39mreturn\u001b[39;00m response\n",
      "File \u001b[0;32m~/.local/lib/python3.10/site-packages/selenium/webdriver/remote/errorhandler.py:245\u001b[0m, in \u001b[0;36mErrorHandler.check_response\u001b[0;34m(self, response)\u001b[0m\n\u001b[1;32m    243\u001b[0m         alert_text \u001b[39m=\u001b[39m value[\u001b[39m\"\u001b[39m\u001b[39malert\u001b[39m\u001b[39m\"\u001b[39m]\u001b[39m.\u001b[39mget(\u001b[39m\"\u001b[39m\u001b[39mtext\u001b[39m\u001b[39m\"\u001b[39m)\n\u001b[1;32m    244\u001b[0m     \u001b[39mraise\u001b[39;00m exception_class(message, screen, stacktrace, alert_text)  \u001b[39m# type: ignore[call-arg]  # mypy is not smart enough here\u001b[39;00m\n\u001b[0;32m--> 245\u001b[0m \u001b[39mraise\u001b[39;00m exception_class(message, screen, stacktrace)\n",
      "\u001b[0;31mInvalidSessionIdException\u001b[0m: Message: Unable to execute request for an existing session: Unable to find session with ID: 5628ed2dcd8d35db3e1e876d7e12566f\nBuild info: version: '4.11.0', revision: '040bc5406b'\nSystem info: os.name: 'Linux', os.arch: 'amd64', os.version: '5.19.0-50-generic', java.version: '11.0.20'\nDriver info: driver.version: unknown\n"
     ]
    }
   ],
   "source": [
    "driver.get('https://www.xiaohongshu.com/explore')\n",
    "print(driver.find_element(By.TAG_NAME,'body').get_attribute('innerHtml'))\n",
    "driver.quit()"
   ]
  }
 ],
 "metadata": {
  "kernelspec": {
   "display_name": "Python 3",
   "language": "python",
   "name": "python3"
  },
  "language_info": {
   "codemirror_mode": {
    "name": "ipython",
    "version": 3
   },
   "file_extension": ".py",
   "mimetype": "text/x-python",
   "name": "python",
   "nbconvert_exporter": "python",
   "pygments_lexer": "ipython3",
   "version": "3.10.6"
  },
  "orig_nbformat": 4
 },
 "nbformat": 4,
 "nbformat_minor": 2
}
