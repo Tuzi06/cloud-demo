{
 "cells": [
  {
   "cell_type": "code",
   "execution_count": null,
   "metadata": {},
   "outputs": [],
   "source": [
    "from selenium import webdriver\n",
    "from selenium.webdriver import Chrome,ChromeOptions\n",
    "from selenium.webdriver.common.by import By\n",
    "import pickle\n",
    "\n",
    "options = ChromeOptions()\n",
    "options.add_argument('--ignore-ssl-errors=yes')\n",
    "options.add_argument('--ignore-certificate-errors')\n",
    "options.add_argument('disable-blink-features=AutomationControlled')\n",
    "driver = webdriver.Remote(command_executor='http://172.17.0.1:4444',options=options)\n",
    "cookies = pickle.load(open('lowlevel/xhs_cookies.pkl','rb'))\n",
    "for cookie in cookies: \n",
    "    if isinstance(cookie.get('expiry'), float):\n",
    "        cookie['expiry'] = int(cookie['expiry'])\n",
    "    driver.add_cookie(cookie)\n",
    "driver.refresh()"
   ]
  },
  {
   "cell_type": "code",
   "execution_count": null,
   "metadata": {},
   "outputs": [],
   "source": [
    "driver.get('https://www.xiaohongshu.com/explore')\n",
    "print(driver.find_element(By.TAG_NAME,'body').get_attribute('innerHtml'))\n",
    "driver.quit()"
   ]
  },
  {
   "cell_type": "code",
   "execution_count": 4,
   "metadata": {},
   "outputs": [],
   "source": [
    "from selenium.webdriver import Chrome,ChromeOptions\n",
    "from selenium.webdriver.common.by import By\n",
    "from selenium.webdriver.chrome.service import Service\n",
    "import time,pickle,json\n",
    "\n",
    "options = ChromeOptions()\n",
    "options.add_argument('--ignore-ssl-errors=yes')\n",
    "options.add_argument('--ignore-certificate-errors')\n",
    "options.add_argument('disable-blink-features=AutomationControlled')\n",
    "\n",
    "driver =Chrome(service=Service(executable_path='lowlevel/chromedriver-mac-arm64/chromedriver'),options=options)\n",
    "driver.get('https://www.xiaohongshu.com/explore')\n",
    "time.sleep(5)\n",
    "driver.get('https://www.xiaohongshu.com/explore')\n",
    "\n",
    "cookies = pickle.load(open('lowlevel/xhs_cookies.pkl','rb'))\n",
    "for cookie in cookies: \n",
    "    if isinstance(cookie.get('expiry'), float):\n",
    "        cookie['expiry'] = int(cookie['expiry'])\n",
    "    driver.add_cookie(cookie)\n",
    "driver.refresh()\n",
    "\n",
    "# time.sleep(120)\n",
    "cookies = driver.get_cookies()\n",
    "# pickle.dump(cookies,open('lowlevel/xhs_cookies.pkl','wb'))\n",
    "time.sleep(10)\n",
    "elements= driver.find_elements(By.CLASS_NAME,'author-wrapper')\n",
    "try:\n",
    "    linklist=[(element.find_element(By.TAG_NAME,'a')).get_attribute('href') for element in elements]\n",
    "except:\n",
    "    driver.refresh()\n",
    "lastelement = elements[-1]\n",
    "linklist = list(set(linklist))\n",
    "open('list.json','w').write(json.dumps(linklist,indent=4))\n",
    "\n",
    "driver.quit()"
   ]
  },
  {
   "cell_type": "code",
   "execution_count": null,
   "metadata": {},
   "outputs": [],
   "source": [
    "import requests\n",
    "a = json.loads(requests.get('https://www.instagram.com/formula_aerodynamics/?__a=1&__d=dis').text)\n"
   ]
  },
  {
   "cell_type": "code",
   "execution_count": 40,
   "metadata": {},
   "outputs": [
    {
     "data": {
      "text/plain": [
       "'CfrMeokJ8cs'"
      ]
     },
     "execution_count": 40,
     "metadata": {},
     "output_type": "execute_result"
    }
   ],
   "source": [
    "a['graphql']['user']['edge_felix_video_timeline']['edges'][1]['node']['shortcode']"
   ]
  },
  {
   "cell_type": "code",
   "execution_count": 42,
   "metadata": {},
   "outputs": [
    {
     "data": {
      "text/plain": [
       "['Cf7AuAWM27-',\n",
       " 'CfrMeokJ8cs',\n",
       " 'Cc8D67VgB3I',\n",
       " 'Ccr9DUYvQnm',\n",
       " 'Cck3WbTgvod',\n",
       " 'CcVjwr2Mt7O',\n",
       " 'CaPwRAgvFEF',\n",
       " 'CZCV9FShoe7',\n",
       " 'CWFs9m3jCUX',\n",
       " 'CVxPGnfvX9L',\n",
       " 'CVh8tDQMR5-',\n",
       " 'CVH4dh-gqc7']"
      ]
     },
     "execution_count": 42,
     "metadata": {},
     "output_type": "execute_result"
    }
   ],
   "source": [
    "[node['node']['shortcode'] for node in a['graphql']['user']['edge_felix_video_timeline']['edges']]"
   ]
  }
 ],
 "metadata": {
  "kernelspec": {
   "display_name": "Python 3",
   "language": "python",
   "name": "python3"
  },
  "language_info": {
   "codemirror_mode": {
    "name": "ipython",
    "version": 3
   },
   "file_extension": ".py",
   "mimetype": "text/x-python",
   "name": "python",
   "nbconvert_exporter": "python",
   "pygments_lexer": "ipython3",
   "version": "3.11.2"
  },
  "orig_nbformat": 4
 },
 "nbformat": 4,
 "nbformat_minor": 2
}
