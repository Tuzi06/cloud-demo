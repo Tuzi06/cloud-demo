{
 "cells": [
  {
   "cell_type": "code",
   "execution_count": 2,
   "metadata": {},
   "outputs": [
    {
     "ename": "KeyboardInterrupt",
     "evalue": "",
     "output_type": "error",
     "traceback": [
      "\u001b[0;31m---------------------------------------------------------------------------\u001b[0m",
      "\u001b[0;31mKeyboardInterrupt\u001b[0m                         Traceback (most recent call last)",
      "Cell \u001b[0;32mIn[2], line 10\u001b[0m\n\u001b[1;32m      8\u001b[0m options\u001b[39m.\u001b[39madd_argument(\u001b[39m'\u001b[39m\u001b[39m--ignore-certificate-errors\u001b[39m\u001b[39m'\u001b[39m)\n\u001b[1;32m      9\u001b[0m options\u001b[39m.\u001b[39madd_argument(\u001b[39m'\u001b[39m\u001b[39mdisable-blink-features=AutomationControlled\u001b[39m\u001b[39m'\u001b[39m)\n\u001b[0;32m---> 10\u001b[0m driver \u001b[39m=\u001b[39m webdriver\u001b[39m.\u001b[39;49mRemote(command_executor\u001b[39m=\u001b[39;49m\u001b[39m'\u001b[39;49m\u001b[39mhttp://172.17.0.1:4444\u001b[39;49m\u001b[39m'\u001b[39;49m,options\u001b[39m=\u001b[39;49moptions)\n\u001b[1;32m     11\u001b[0m cookies \u001b[39m=\u001b[39m pickle\u001b[39m.\u001b[39mload(\u001b[39mopen\u001b[39m(\u001b[39m'\u001b[39m\u001b[39mlowlevel/xhs_cookies.pkl\u001b[39m\u001b[39m'\u001b[39m,\u001b[39m'\u001b[39m\u001b[39mrb\u001b[39m\u001b[39m'\u001b[39m))\n\u001b[1;32m     12\u001b[0m \u001b[39mfor\u001b[39;00m cookie \u001b[39min\u001b[39;00m cookies: \n",
      "File \u001b[0;32m/Library/Frameworks/Python.framework/Versions/3.11/lib/python3.11/site-packages/selenium/webdriver/remote/webdriver.py:206\u001b[0m, in \u001b[0;36mWebDriver.__init__\u001b[0;34m(self, command_executor, keep_alive, file_detector, options)\u001b[0m\n\u001b[1;32m    204\u001b[0m \u001b[39mself\u001b[39m\u001b[39m.\u001b[39m_authenticator_id \u001b[39m=\u001b[39m \u001b[39mNone\u001b[39;00m\n\u001b[1;32m    205\u001b[0m \u001b[39mself\u001b[39m\u001b[39m.\u001b[39mstart_client()\n\u001b[0;32m--> 206\u001b[0m \u001b[39mself\u001b[39;49m\u001b[39m.\u001b[39;49mstart_session(capabilities)\n",
      "File \u001b[0;32m/Library/Frameworks/Python.framework/Versions/3.11/lib/python3.11/site-packages/selenium/webdriver/remote/webdriver.py:291\u001b[0m, in \u001b[0;36mWebDriver.start_session\u001b[0;34m(self, capabilities)\u001b[0m\n\u001b[1;32m    283\u001b[0m \u001b[39m\u001b[39m\u001b[39m\"\"\"Creates a new session with the desired capabilities.\u001b[39;00m\n\u001b[1;32m    284\u001b[0m \n\u001b[1;32m    285\u001b[0m \u001b[39m:Args:\u001b[39;00m\n\u001b[1;32m    286\u001b[0m \u001b[39m - capabilities - a capabilities dict to start the session with.\u001b[39;00m\n\u001b[1;32m    287\u001b[0m \u001b[39m - browser_profile - A selenium.webdriver.firefox.firefox_profile.FirefoxProfile object. Only used if Firefox is requested.\u001b[39;00m\n\u001b[1;32m    288\u001b[0m \u001b[39m\"\"\"\u001b[39;00m\n\u001b[1;32m    290\u001b[0m caps \u001b[39m=\u001b[39m _create_caps(capabilities)\n\u001b[0;32m--> 291\u001b[0m response \u001b[39m=\u001b[39m \u001b[39mself\u001b[39;49m\u001b[39m.\u001b[39;49mexecute(Command\u001b[39m.\u001b[39;49mNEW_SESSION, caps)[\u001b[39m\"\u001b[39m\u001b[39mvalue\u001b[39m\u001b[39m\"\u001b[39m]\n\u001b[1;32m    292\u001b[0m \u001b[39mself\u001b[39m\u001b[39m.\u001b[39msession_id \u001b[39m=\u001b[39m response\u001b[39m.\u001b[39mget(\u001b[39m\"\u001b[39m\u001b[39msessionId\u001b[39m\u001b[39m\"\u001b[39m)\n\u001b[1;32m    293\u001b[0m \u001b[39mself\u001b[39m\u001b[39m.\u001b[39mcaps \u001b[39m=\u001b[39m response\u001b[39m.\u001b[39mget(\u001b[39m\"\u001b[39m\u001b[39mcapabilities\u001b[39m\u001b[39m\"\u001b[39m)\n",
      "File \u001b[0;32m/Library/Frameworks/Python.framework/Versions/3.11/lib/python3.11/site-packages/selenium/webdriver/remote/webdriver.py:344\u001b[0m, in \u001b[0;36mWebDriver.execute\u001b[0;34m(self, driver_command, params)\u001b[0m\n\u001b[1;32m    341\u001b[0m     \u001b[39melif\u001b[39;00m \u001b[39m\"\u001b[39m\u001b[39msessionId\u001b[39m\u001b[39m\"\u001b[39m \u001b[39mnot\u001b[39;00m \u001b[39min\u001b[39;00m params:\n\u001b[1;32m    342\u001b[0m         params[\u001b[39m\"\u001b[39m\u001b[39msessionId\u001b[39m\u001b[39m\"\u001b[39m] \u001b[39m=\u001b[39m \u001b[39mself\u001b[39m\u001b[39m.\u001b[39msession_id\n\u001b[0;32m--> 344\u001b[0m response \u001b[39m=\u001b[39m \u001b[39mself\u001b[39;49m\u001b[39m.\u001b[39;49mcommand_executor\u001b[39m.\u001b[39;49mexecute(driver_command, params)\n\u001b[1;32m    345\u001b[0m \u001b[39mif\u001b[39;00m response:\n\u001b[1;32m    346\u001b[0m     \u001b[39mself\u001b[39m\u001b[39m.\u001b[39merror_handler\u001b[39m.\u001b[39mcheck_response(response)\n",
      "File \u001b[0;32m/Library/Frameworks/Python.framework/Versions/3.11/lib/python3.11/site-packages/selenium/webdriver/remote/remote_connection.py:290\u001b[0m, in \u001b[0;36mRemoteConnection.execute\u001b[0;34m(self, command, params)\u001b[0m\n\u001b[1;32m    288\u001b[0m data \u001b[39m=\u001b[39m utils\u001b[39m.\u001b[39mdump_json(params)\n\u001b[1;32m    289\u001b[0m url \u001b[39m=\u001b[39m \u001b[39mf\u001b[39m\u001b[39m\"\u001b[39m\u001b[39m{\u001b[39;00m\u001b[39mself\u001b[39m\u001b[39m.\u001b[39m_url\u001b[39m}\u001b[39;00m\u001b[39m{\u001b[39;00mpath\u001b[39m}\u001b[39;00m\u001b[39m\"\u001b[39m\n\u001b[0;32m--> 290\u001b[0m \u001b[39mreturn\u001b[39;00m \u001b[39mself\u001b[39;49m\u001b[39m.\u001b[39;49m_request(command_info[\u001b[39m0\u001b[39;49m], url, body\u001b[39m=\u001b[39;49mdata)\n",
      "File \u001b[0;32m/Library/Frameworks/Python.framework/Versions/3.11/lib/python3.11/site-packages/selenium/webdriver/remote/remote_connection.py:311\u001b[0m, in \u001b[0;36mRemoteConnection._request\u001b[0;34m(self, method, url, body)\u001b[0m\n\u001b[1;32m    308\u001b[0m     body \u001b[39m=\u001b[39m \u001b[39mNone\u001b[39;00m\n\u001b[1;32m    310\u001b[0m \u001b[39mif\u001b[39;00m \u001b[39mself\u001b[39m\u001b[39m.\u001b[39mkeep_alive:\n\u001b[0;32m--> 311\u001b[0m     response \u001b[39m=\u001b[39m \u001b[39mself\u001b[39;49m\u001b[39m.\u001b[39;49m_conn\u001b[39m.\u001b[39;49mrequest(method, url, body\u001b[39m=\u001b[39;49mbody, headers\u001b[39m=\u001b[39;49mheaders)\n\u001b[1;32m    312\u001b[0m     statuscode \u001b[39m=\u001b[39m response\u001b[39m.\u001b[39mstatus\n\u001b[1;32m    313\u001b[0m \u001b[39melse\u001b[39;00m:\n",
      "File \u001b[0;32m/Library/Frameworks/Python.framework/Versions/3.11/lib/python3.11/site-packages/urllib3/request.py:78\u001b[0m, in \u001b[0;36mRequestMethods.request\u001b[0;34m(self, method, url, fields, headers, **urlopen_kw)\u001b[0m\n\u001b[1;32m     74\u001b[0m     \u001b[39mreturn\u001b[39;00m \u001b[39mself\u001b[39m\u001b[39m.\u001b[39mrequest_encode_url(\n\u001b[1;32m     75\u001b[0m         method, url, fields\u001b[39m=\u001b[39mfields, headers\u001b[39m=\u001b[39mheaders, \u001b[39m*\u001b[39m\u001b[39m*\u001b[39murlopen_kw\n\u001b[1;32m     76\u001b[0m     )\n\u001b[1;32m     77\u001b[0m \u001b[39melse\u001b[39;00m:\n\u001b[0;32m---> 78\u001b[0m     \u001b[39mreturn\u001b[39;00m \u001b[39mself\u001b[39;49m\u001b[39m.\u001b[39;49mrequest_encode_body(\n\u001b[1;32m     79\u001b[0m         method, url, fields\u001b[39m=\u001b[39;49mfields, headers\u001b[39m=\u001b[39;49mheaders, \u001b[39m*\u001b[39;49m\u001b[39m*\u001b[39;49murlopen_kw\n\u001b[1;32m     80\u001b[0m     )\n",
      "File \u001b[0;32m/Library/Frameworks/Python.framework/Versions/3.11/lib/python3.11/site-packages/urllib3/request.py:170\u001b[0m, in \u001b[0;36mRequestMethods.request_encode_body\u001b[0;34m(self, method, url, fields, headers, encode_multipart, multipart_boundary, **urlopen_kw)\u001b[0m\n\u001b[1;32m    167\u001b[0m extra_kw[\u001b[39m\"\u001b[39m\u001b[39mheaders\u001b[39m\u001b[39m\"\u001b[39m]\u001b[39m.\u001b[39mupdate(headers)\n\u001b[1;32m    168\u001b[0m extra_kw\u001b[39m.\u001b[39mupdate(urlopen_kw)\n\u001b[0;32m--> 170\u001b[0m \u001b[39mreturn\u001b[39;00m \u001b[39mself\u001b[39;49m\u001b[39m.\u001b[39;49murlopen(method, url, \u001b[39m*\u001b[39;49m\u001b[39m*\u001b[39;49mextra_kw)\n",
      "File \u001b[0;32m/Library/Frameworks/Python.framework/Versions/3.11/lib/python3.11/site-packages/urllib3/poolmanager.py:376\u001b[0m, in \u001b[0;36mPoolManager.urlopen\u001b[0;34m(self, method, url, redirect, **kw)\u001b[0m\n\u001b[1;32m    374\u001b[0m     response \u001b[39m=\u001b[39m conn\u001b[39m.\u001b[39murlopen(method, url, \u001b[39m*\u001b[39m\u001b[39m*\u001b[39mkw)\n\u001b[1;32m    375\u001b[0m \u001b[39melse\u001b[39;00m:\n\u001b[0;32m--> 376\u001b[0m     response \u001b[39m=\u001b[39m conn\u001b[39m.\u001b[39;49murlopen(method, u\u001b[39m.\u001b[39;49mrequest_uri, \u001b[39m*\u001b[39;49m\u001b[39m*\u001b[39;49mkw)\n\u001b[1;32m    378\u001b[0m redirect_location \u001b[39m=\u001b[39m redirect \u001b[39mand\u001b[39;00m response\u001b[39m.\u001b[39mget_redirect_location()\n\u001b[1;32m    379\u001b[0m \u001b[39mif\u001b[39;00m \u001b[39mnot\u001b[39;00m redirect_location:\n",
      "File \u001b[0;32m/Library/Frameworks/Python.framework/Versions/3.11/lib/python3.11/site-packages/urllib3/connectionpool.py:703\u001b[0m, in \u001b[0;36mHTTPConnectionPool.urlopen\u001b[0;34m(self, method, url, body, headers, retries, redirect, assert_same_host, timeout, pool_timeout, release_conn, chunked, body_pos, **response_kw)\u001b[0m\n\u001b[1;32m    700\u001b[0m     \u001b[39mself\u001b[39m\u001b[39m.\u001b[39m_prepare_proxy(conn)\n\u001b[1;32m    702\u001b[0m \u001b[39m# Make the request on the httplib connection object.\u001b[39;00m\n\u001b[0;32m--> 703\u001b[0m httplib_response \u001b[39m=\u001b[39m \u001b[39mself\u001b[39;49m\u001b[39m.\u001b[39;49m_make_request(\n\u001b[1;32m    704\u001b[0m     conn,\n\u001b[1;32m    705\u001b[0m     method,\n\u001b[1;32m    706\u001b[0m     url,\n\u001b[1;32m    707\u001b[0m     timeout\u001b[39m=\u001b[39;49mtimeout_obj,\n\u001b[1;32m    708\u001b[0m     body\u001b[39m=\u001b[39;49mbody,\n\u001b[1;32m    709\u001b[0m     headers\u001b[39m=\u001b[39;49mheaders,\n\u001b[1;32m    710\u001b[0m     chunked\u001b[39m=\u001b[39;49mchunked,\n\u001b[1;32m    711\u001b[0m )\n\u001b[1;32m    713\u001b[0m \u001b[39m# If we're going to release the connection in ``finally:``, then\u001b[39;00m\n\u001b[1;32m    714\u001b[0m \u001b[39m# the response doesn't need to know about the connection. Otherwise\u001b[39;00m\n\u001b[1;32m    715\u001b[0m \u001b[39m# it will also try to release it and we'll have a double-release\u001b[39;00m\n\u001b[1;32m    716\u001b[0m \u001b[39m# mess.\u001b[39;00m\n\u001b[1;32m    717\u001b[0m response_conn \u001b[39m=\u001b[39m conn \u001b[39mif\u001b[39;00m \u001b[39mnot\u001b[39;00m release_conn \u001b[39melse\u001b[39;00m \u001b[39mNone\u001b[39;00m\n",
      "File \u001b[0;32m/Library/Frameworks/Python.framework/Versions/3.11/lib/python3.11/site-packages/urllib3/connectionpool.py:398\u001b[0m, in \u001b[0;36mHTTPConnectionPool._make_request\u001b[0;34m(self, conn, method, url, timeout, chunked, **httplib_request_kw)\u001b[0m\n\u001b[1;32m    396\u001b[0m         conn\u001b[39m.\u001b[39mrequest_chunked(method, url, \u001b[39m*\u001b[39m\u001b[39m*\u001b[39mhttplib_request_kw)\n\u001b[1;32m    397\u001b[0m     \u001b[39melse\u001b[39;00m:\n\u001b[0;32m--> 398\u001b[0m         conn\u001b[39m.\u001b[39;49mrequest(method, url, \u001b[39m*\u001b[39;49m\u001b[39m*\u001b[39;49mhttplib_request_kw)\n\u001b[1;32m    400\u001b[0m \u001b[39m# We are swallowing BrokenPipeError (errno.EPIPE) since the server is\u001b[39;00m\n\u001b[1;32m    401\u001b[0m \u001b[39m# legitimately able to close the connection after sending a valid response.\u001b[39;00m\n\u001b[1;32m    402\u001b[0m \u001b[39m# With this behaviour, the received response is still readable.\u001b[39;00m\n\u001b[1;32m    403\u001b[0m \u001b[39mexcept\u001b[39;00m \u001b[39mBrokenPipeError\u001b[39;00m:\n\u001b[1;32m    404\u001b[0m     \u001b[39m# Python 3\u001b[39;00m\n",
      "File \u001b[0;32m/Library/Frameworks/Python.framework/Versions/3.11/lib/python3.11/site-packages/urllib3/connection.py:239\u001b[0m, in \u001b[0;36mHTTPConnection.request\u001b[0;34m(self, method, url, body, headers)\u001b[0m\n\u001b[1;32m    237\u001b[0m \u001b[39mif\u001b[39;00m \u001b[39m\"\u001b[39m\u001b[39muser-agent\u001b[39m\u001b[39m\"\u001b[39m \u001b[39mnot\u001b[39;00m \u001b[39min\u001b[39;00m (six\u001b[39m.\u001b[39mensure_str(k\u001b[39m.\u001b[39mlower()) \u001b[39mfor\u001b[39;00m k \u001b[39min\u001b[39;00m headers):\n\u001b[1;32m    238\u001b[0m     headers[\u001b[39m\"\u001b[39m\u001b[39mUser-Agent\u001b[39m\u001b[39m\"\u001b[39m] \u001b[39m=\u001b[39m _get_default_user_agent()\n\u001b[0;32m--> 239\u001b[0m \u001b[39msuper\u001b[39;49m(HTTPConnection, \u001b[39mself\u001b[39;49m)\u001b[39m.\u001b[39;49mrequest(method, url, body\u001b[39m=\u001b[39;49mbody, headers\u001b[39m=\u001b[39;49mheaders)\n",
      "File \u001b[0;32m/Library/Frameworks/Python.framework/Versions/3.11/lib/python3.11/http/client.py:1282\u001b[0m, in \u001b[0;36mHTTPConnection.request\u001b[0;34m(self, method, url, body, headers, encode_chunked)\u001b[0m\n\u001b[1;32m   1279\u001b[0m \u001b[39mdef\u001b[39;00m \u001b[39mrequest\u001b[39m(\u001b[39mself\u001b[39m, method, url, body\u001b[39m=\u001b[39m\u001b[39mNone\u001b[39;00m, headers\u001b[39m=\u001b[39m{}, \u001b[39m*\u001b[39m,\n\u001b[1;32m   1280\u001b[0m             encode_chunked\u001b[39m=\u001b[39m\u001b[39mFalse\u001b[39;00m):\n\u001b[1;32m   1281\u001b[0m \u001b[39m    \u001b[39m\u001b[39m\"\"\"Send a complete request to the server.\"\"\"\u001b[39;00m\n\u001b[0;32m-> 1282\u001b[0m     \u001b[39mself\u001b[39;49m\u001b[39m.\u001b[39;49m_send_request(method, url, body, headers, encode_chunked)\n",
      "File \u001b[0;32m/Library/Frameworks/Python.framework/Versions/3.11/lib/python3.11/http/client.py:1328\u001b[0m, in \u001b[0;36mHTTPConnection._send_request\u001b[0;34m(self, method, url, body, headers, encode_chunked)\u001b[0m\n\u001b[1;32m   1324\u001b[0m \u001b[39mif\u001b[39;00m \u001b[39misinstance\u001b[39m(body, \u001b[39mstr\u001b[39m):\n\u001b[1;32m   1325\u001b[0m     \u001b[39m# RFC 2616 Section 3.7.1 says that text default has a\u001b[39;00m\n\u001b[1;32m   1326\u001b[0m     \u001b[39m# default charset of iso-8859-1.\u001b[39;00m\n\u001b[1;32m   1327\u001b[0m     body \u001b[39m=\u001b[39m _encode(body, \u001b[39m'\u001b[39m\u001b[39mbody\u001b[39m\u001b[39m'\u001b[39m)\n\u001b[0;32m-> 1328\u001b[0m \u001b[39mself\u001b[39;49m\u001b[39m.\u001b[39;49mendheaders(body, encode_chunked\u001b[39m=\u001b[39;49mencode_chunked)\n",
      "File \u001b[0;32m/Library/Frameworks/Python.framework/Versions/3.11/lib/python3.11/http/client.py:1277\u001b[0m, in \u001b[0;36mHTTPConnection.endheaders\u001b[0;34m(self, message_body, encode_chunked)\u001b[0m\n\u001b[1;32m   1275\u001b[0m \u001b[39melse\u001b[39;00m:\n\u001b[1;32m   1276\u001b[0m     \u001b[39mraise\u001b[39;00m CannotSendHeader()\n\u001b[0;32m-> 1277\u001b[0m \u001b[39mself\u001b[39;49m\u001b[39m.\u001b[39;49m_send_output(message_body, encode_chunked\u001b[39m=\u001b[39;49mencode_chunked)\n",
      "File \u001b[0;32m/Library/Frameworks/Python.framework/Versions/3.11/lib/python3.11/http/client.py:1037\u001b[0m, in \u001b[0;36mHTTPConnection._send_output\u001b[0;34m(self, message_body, encode_chunked)\u001b[0m\n\u001b[1;32m   1035\u001b[0m msg \u001b[39m=\u001b[39m \u001b[39mb\u001b[39m\u001b[39m\"\u001b[39m\u001b[39m\\r\u001b[39;00m\u001b[39m\\n\u001b[39;00m\u001b[39m\"\u001b[39m\u001b[39m.\u001b[39mjoin(\u001b[39mself\u001b[39m\u001b[39m.\u001b[39m_buffer)\n\u001b[1;32m   1036\u001b[0m \u001b[39mdel\u001b[39;00m \u001b[39mself\u001b[39m\u001b[39m.\u001b[39m_buffer[:]\n\u001b[0;32m-> 1037\u001b[0m \u001b[39mself\u001b[39;49m\u001b[39m.\u001b[39;49msend(msg)\n\u001b[1;32m   1039\u001b[0m \u001b[39mif\u001b[39;00m message_body \u001b[39mis\u001b[39;00m \u001b[39mnot\u001b[39;00m \u001b[39mNone\u001b[39;00m:\n\u001b[1;32m   1040\u001b[0m \n\u001b[1;32m   1041\u001b[0m     \u001b[39m# create a consistent interface to message_body\u001b[39;00m\n\u001b[1;32m   1042\u001b[0m     \u001b[39mif\u001b[39;00m \u001b[39mhasattr\u001b[39m(message_body, \u001b[39m'\u001b[39m\u001b[39mread\u001b[39m\u001b[39m'\u001b[39m):\n\u001b[1;32m   1043\u001b[0m         \u001b[39m# Let file-like take precedence over byte-like.  This\u001b[39;00m\n\u001b[1;32m   1044\u001b[0m         \u001b[39m# is needed to allow the current position of mmap'ed\u001b[39;00m\n\u001b[1;32m   1045\u001b[0m         \u001b[39m# files to be taken into account.\u001b[39;00m\n",
      "File \u001b[0;32m/Library/Frameworks/Python.framework/Versions/3.11/lib/python3.11/http/client.py:975\u001b[0m, in \u001b[0;36mHTTPConnection.send\u001b[0;34m(self, data)\u001b[0m\n\u001b[1;32m    973\u001b[0m \u001b[39mif\u001b[39;00m \u001b[39mself\u001b[39m\u001b[39m.\u001b[39msock \u001b[39mis\u001b[39;00m \u001b[39mNone\u001b[39;00m:\n\u001b[1;32m    974\u001b[0m     \u001b[39mif\u001b[39;00m \u001b[39mself\u001b[39m\u001b[39m.\u001b[39mauto_open:\n\u001b[0;32m--> 975\u001b[0m         \u001b[39mself\u001b[39;49m\u001b[39m.\u001b[39;49mconnect()\n\u001b[1;32m    976\u001b[0m     \u001b[39melse\u001b[39;00m:\n\u001b[1;32m    977\u001b[0m         \u001b[39mraise\u001b[39;00m NotConnected()\n",
      "File \u001b[0;32m/Library/Frameworks/Python.framework/Versions/3.11/lib/python3.11/site-packages/urllib3/connection.py:205\u001b[0m, in \u001b[0;36mHTTPConnection.connect\u001b[0;34m(self)\u001b[0m\n\u001b[1;32m    204\u001b[0m \u001b[39mdef\u001b[39;00m \u001b[39mconnect\u001b[39m(\u001b[39mself\u001b[39m):\n\u001b[0;32m--> 205\u001b[0m     conn \u001b[39m=\u001b[39m \u001b[39mself\u001b[39;49m\u001b[39m.\u001b[39;49m_new_conn()\n\u001b[1;32m    206\u001b[0m     \u001b[39mself\u001b[39m\u001b[39m.\u001b[39m_prepare_conn(conn)\n",
      "File \u001b[0;32m/Library/Frameworks/Python.framework/Versions/3.11/lib/python3.11/site-packages/urllib3/connection.py:174\u001b[0m, in \u001b[0;36mHTTPConnection._new_conn\u001b[0;34m(self)\u001b[0m\n\u001b[1;32m    171\u001b[0m     extra_kw[\u001b[39m\"\u001b[39m\u001b[39msocket_options\u001b[39m\u001b[39m\"\u001b[39m] \u001b[39m=\u001b[39m \u001b[39mself\u001b[39m\u001b[39m.\u001b[39msocket_options\n\u001b[1;32m    173\u001b[0m \u001b[39mtry\u001b[39;00m:\n\u001b[0;32m--> 174\u001b[0m     conn \u001b[39m=\u001b[39m connection\u001b[39m.\u001b[39;49mcreate_connection(\n\u001b[1;32m    175\u001b[0m         (\u001b[39mself\u001b[39;49m\u001b[39m.\u001b[39;49m_dns_host, \u001b[39mself\u001b[39;49m\u001b[39m.\u001b[39;49mport), \u001b[39mself\u001b[39;49m\u001b[39m.\u001b[39;49mtimeout, \u001b[39m*\u001b[39;49m\u001b[39m*\u001b[39;49mextra_kw\n\u001b[1;32m    176\u001b[0m     )\n\u001b[1;32m    178\u001b[0m \u001b[39mexcept\u001b[39;00m SocketTimeout:\n\u001b[1;32m    179\u001b[0m     \u001b[39mraise\u001b[39;00m ConnectTimeoutError(\n\u001b[1;32m    180\u001b[0m         \u001b[39mself\u001b[39m,\n\u001b[1;32m    181\u001b[0m         \u001b[39m\"\u001b[39m\u001b[39mConnection to \u001b[39m\u001b[39m%s\u001b[39;00m\u001b[39m timed out. (connect timeout=\u001b[39m\u001b[39m%s\u001b[39;00m\u001b[39m)\u001b[39m\u001b[39m\"\u001b[39m\n\u001b[1;32m    182\u001b[0m         \u001b[39m%\u001b[39m (\u001b[39mself\u001b[39m\u001b[39m.\u001b[39mhost, \u001b[39mself\u001b[39m\u001b[39m.\u001b[39mtimeout),\n\u001b[1;32m    183\u001b[0m     )\n",
      "File \u001b[0;32m/Library/Frameworks/Python.framework/Versions/3.11/lib/python3.11/site-packages/urllib3/util/connection.py:85\u001b[0m, in \u001b[0;36mcreate_connection\u001b[0;34m(address, timeout, source_address, socket_options)\u001b[0m\n\u001b[1;32m     83\u001b[0m     \u001b[39mif\u001b[39;00m source_address:\n\u001b[1;32m     84\u001b[0m         sock\u001b[39m.\u001b[39mbind(source_address)\n\u001b[0;32m---> 85\u001b[0m     sock\u001b[39m.\u001b[39;49mconnect(sa)\n\u001b[1;32m     86\u001b[0m     \u001b[39mreturn\u001b[39;00m sock\n\u001b[1;32m     88\u001b[0m \u001b[39mexcept\u001b[39;00m socket\u001b[39m.\u001b[39merror \u001b[39mas\u001b[39;00m e:\n",
      "\u001b[0;31mKeyboardInterrupt\u001b[0m: "
     ]
    }
   ],
   "source": [
    "from selenium import webdriver\n",
    "from selenium.webdriver import Chrome,ChromeOptions\n",
    "from selenium.webdriver.common.by import By\n",
    "import pickle\n",
    "\n",
    "options = ChromeOptions()\n",
    "options.add_argument('--ignore-ssl-errors=yes')\n",
    "options.add_argument('--ignore-certificate-errors')\n",
    "options.add_argument('disable-blink-features=AutomationControlled')\n",
    "driver = webdriver.Remote(command_executor='http://172.17.0.1:4444',options=options)\n",
    "cookies = pickle.load(open('lowlevel/xhs_cookies.pkl','rb'))\n",
    "for cookie in cookies: \n",
    "    if isinstance(cookie.get('expiry'), float):\n",
    "        cookie['expiry'] = int(cookie['expiry'])\n",
    "    driver.add_cookie(cookie)\n",
    "driver.refresh()"
   ]
  },
  {
   "cell_type": "code",
   "execution_count": null,
   "metadata": {},
   "outputs": [],
   "source": [
    "driver.get('https://www.xiaohongshu.com/explore')\n",
    "print(driver.find_element(By.TAG_NAME,'body').get_attribute('innerHtml'))\n",
    "driver.quit()"
   ]
  },
  {
   "cell_type": "code",
   "execution_count": 4,
   "metadata": {},
   "outputs": [],
   "source": [
    "from selenium.webdriver import Chrome,ChromeOptions\n",
    "from selenium.webdriver.common.by import By\n",
    "from selenium.webdriver.chrome.service import Service\n",
    "import time,pickle,json\n",
    "\n",
    "options = ChromeOptions()\n",
    "options.add_argument('--ignore-ssl-errors=yes')\n",
    "options.add_argument('--ignore-certificate-errors')\n",
    "options.add_argument('disable-blink-features=AutomationControlled')\n",
    "\n",
    "driver =Chrome(service=Service(executable_path='lowlevel/chromedriver-mac-arm64/chromedriver'),options=options)\n",
    "driver.get('https://www.xiaohongshu.com/explore')\n",
    "time.sleep(5)\n",
    "driver.get('https://www.xiaohongshu.com/explore')\n",
    "\n",
    "cookies = pickle.load(open('lowlevel/xhs_cookies.pkl','rb'))\n",
    "for cookie in cookies: \n",
    "    if isinstance(cookie.get('expiry'), float):\n",
    "        cookie['expiry'] = int(cookie['expiry'])\n",
    "    driver.add_cookie(cookie)\n",
    "driver.refresh()\n",
    "\n",
    "# time.sleep(120)\n",
    "cookies = driver.get_cookies()\n",
    "# pickle.dump(cookies,open('lowlevel/xhs_cookies.pkl','wb'))\n",
    "time.sleep(10)\n",
    "elements= driver.find_elements(By.CLASS_NAME,'author-wrapper')\n",
    "try:\n",
    "    linklist=[(element.find_element(By.TAG_NAME,'a')).get_attribute('href') for element in elements]\n",
    "except:\n",
    "    driver.refresh()\n",
    "lastelement = elements[-1]\n",
    "linklist = list(set(linklist))\n",
    "open('list.json','w').write(json.dumps(linklist,indent=4))\n",
    "\n",
    "driver.quit()"
   ]
  },
  {
   "cell_type": "code",
   "execution_count": null,
   "metadata": {},
   "outputs": [],
   "source": [
    "import requests\n",
    "\n",
    "# a = json.loads(requests.get('https://www.instagram.com/formula_aerodynamics/?__a=1&__d=dis').text)\n",
    "from urllib.parse import urlencode\n",
    "\n",
    "URL = 'http://192.168.1.67:5000'\n",
    "requests.get(URL+'/start')\n",
    "url = URL + \"/job?\" +urlencode({'url':'https://www.instagram.com/p/BylVMcDgHkm/','aaa':''})\n",
    "requests.get(url)\n"
   ]
  },
  {
   "cell_type": "code",
   "execution_count": 54,
   "metadata": {},
   "outputs": [],
   "source": [
    "response = json.loads(requests.get('https://www.instagram.com/p/BylVMcDgHkm/?__a=1&__d=dis').text)"
   ]
  },
  {
   "cell_type": "code",
   "execution_count": 57,
   "metadata": {},
   "outputs": [
    {
     "data": {
      "text/plain": [
       "{'shortcode_media': {'__typename': 'GraphVideo',\n",
       "  'id': '2064149217953216806',\n",
       "  'shortcode': 'BylVMcDgHkm',\n",
       "  'dimensions': {'height': 600, 'width': 480},\n",
       "  'gating_info': None,\n",
       "  'fact_check_overall_rating': None,\n",
       "  'fact_check_information': None,\n",
       "  'sensitivity_friction_info': None,\n",
       "  'sharing_friction_info': {'should_have_sharing_friction': False,\n",
       "   'bloks_app_url': None},\n",
       "  'media_overlay_info': None,\n",
       "  'media_preview': None,\n",
       "  'display_url': 'https://instagram.fcxh2-1.fna.fbcdn.net/v/t51.2885-15/61627346_374578989892187_8693943222128921763_n.jpg?stp=dst-jpg_e35&_nc_ht=instagram.fcxh2-1.fna.fbcdn.net&_nc_cat=111&_nc_ohc=ARCX_Mg5v4cAX9X9h5W&edm=AABBvjUBAAAA&ccb=7-5&oh=00_AfBTUyo5dsmXXF_8SxymNiv_e6lV2XGHjrPwMu0m7jc-qg&oe=64CCE79F&_nc_sid=4f4799',\n",
       "  'display_resources': [{'src': 'https://instagram.fcxh2-1.fna.fbcdn.net/v/t51.2885-15/61627346_374578989892187_8693943222128921763_n.jpg?stp=dst-jpg_e35&_nc_ht=instagram.fcxh2-1.fna.fbcdn.net&_nc_cat=111&_nc_ohc=ARCX_Mg5v4cAX9X9h5W&edm=AABBvjUBAAAA&ccb=7-5&oh=00_AfBTUyo5dsmXXF_8SxymNiv_e6lV2XGHjrPwMu0m7jc-qg&oe=64CCE79F&_nc_sid=4f4799',\n",
       "    'config_width': 640,\n",
       "    'config_height': 800},\n",
       "   {'src': 'https://instagram.fcxh2-1.fna.fbcdn.net/v/t51.2885-15/61627346_374578989892187_8693943222128921763_n.jpg?stp=dst-jpg_e35&_nc_ht=instagram.fcxh2-1.fna.fbcdn.net&_nc_cat=111&_nc_ohc=ARCX_Mg5v4cAX9X9h5W&edm=AABBvjUBAAAA&ccb=7-5&oh=00_AfBTUyo5dsmXXF_8SxymNiv_e6lV2XGHjrPwMu0m7jc-qg&oe=64CCE79F&_nc_sid=4f4799',\n",
       "    'config_width': 750,\n",
       "    'config_height': 937},\n",
       "   {'src': 'https://instagram.fcxh2-1.fna.fbcdn.net/v/t51.2885-15/61627346_374578989892187_8693943222128921763_n.jpg?stp=dst-jpg_e35&_nc_ht=instagram.fcxh2-1.fna.fbcdn.net&_nc_cat=111&_nc_ohc=ARCX_Mg5v4cAX9X9h5W&edm=AABBvjUBAAAA&ccb=7-5&oh=00_AfBTUyo5dsmXXF_8SxymNiv_e6lV2XGHjrPwMu0m7jc-qg&oe=64CCE79F&_nc_sid=4f4799',\n",
       "    'config_width': 1080,\n",
       "    'config_height': 1350}],\n",
       "  'accessibility_caption': None,\n",
       "  'dash_info': {'is_dash_eligible': False,\n",
       "   'video_dash_manifest': None,\n",
       "   'number_of_qualities': 0},\n",
       "  'has_audio': False,\n",
       "  'video_url': 'https://instagram.fcxh2-1.fna.fbcdn.net/v/t50.2886-16/62347630_798988793835307_7209006474205761746_n.mp4?efg=eyJ2ZW5jb2RlX3RhZyI6InZ0c192b2RfdXJsZ2VuLjQ4MC5mZWVkLmRlZmF1bHQiLCJxZV9ncm91cHMiOiJbXCJpZ193ZWJfZGVsaXZlcnlfdnRzX290ZlwiXSJ9&_nc_ht=instagram.fcxh2-1.fna.fbcdn.net&_nc_cat=107&_nc_ohc=a-UdZpzYVkgAX8NBIn0&edm=AABBvjUBAAAA&vs=18075089896014350_607280296&_nc_vs=HBkcFQAYJEdHNVp0d01yYnp3VHJkWUNBTktRaG40eGlRdGtia1lMQUFBRhUAAsgBACgAGAAbABUAACacrvqE2cybQBUCKAJDMywXQCXdsi0OVgQYEmRhc2hfYmFzZWxpbmVfMV92MREAdeoHAA%3D%3D&ccb=7-5&oh=00_AfBN5XlxbLFcHmGSIv8zU508bFDyeMbPalOuvp-Ipkz3ug&oe=64CC727F&_nc_sid=4f4799',\n",
       "  'video_view_count': 1184,\n",
       "  'video_play_count': None,\n",
       "  'is_video': True,\n",
       "  'tracking_token': 'eyJ2ZXJzaW9uIjo1LCJwYXlsb2FkIjp7ImlzX2FuYWx5dGljc190cmFja2VkIjp0cnVlLCJ1dWlkIjoiMzgwYTdhYTI4ZjBmNDQ5MDk5ZmU0ZTk4MmVhOTJkNDgyMDY0MTQ5MjE3OTUzMjE2ODA2In0sInNpZ25hdHVyZSI6IiJ9',\n",
       "  'upcoming_event': None,\n",
       "  'edge_media_to_tagged_user': {'edges': []},\n",
       "  'edge_media_to_caption': {'edges': [{'node': {'created_at': '1560285877',\n",
       "      'text': 'Tag your Friends 😍\\n➖➖➖➖➖➖➖➖➖⠀\\n💡Follow For More New Tech Videos!⠀\\n👉 @techxxplanet 👈\\n👉 @techxxplanet 👈\\n👉 @techxxplanet 👈⠀\\n➖➖➖➖➖➖➖➖➖⠀\\nDM FOR CREDIT ⠀\\n➖➖➖➖➖➖➖➖➖\\n#techplanet #techlover #techlove #technology\\xa0#tech\\xa0#techie\\xa0#futuretech\\xa0#physics\\xa0#raspberrypi\\n#internetofthings\\xa0#artificialintelligence #car\\n#machinelearning\\xa0#iot#madmakerscommunity\\xa0#madmakers\\xa0#robot #seo\\n#lifehack #diy #diytech \\xa0#electronics\\xa0#information\\xa0 #innovation\\xa0#physicsfun\\xa0#digitalmarketting'}}]},\n",
       "  'can_see_insights_as_brand': False,\n",
       "  'caption_is_edited': False,\n",
       "  'has_ranked_comments': False,\n",
       "  'like_and_view_counts_disabled': False,\n",
       "  'edge_media_to_parent_comment': {'count': 2,\n",
       "   'page_info': {'has_next_page': False, 'end_cursor': None},\n",
       "   'edges': [{'node': {'id': '17951649553285017',\n",
       "      'text': '@techxxplanet',\n",
       "      'created_at': 1560286110,\n",
       "      'did_report_as_spam': False,\n",
       "      'owner': {'id': '10588706837',\n",
       "       'is_verified': False,\n",
       "       'profile_pic_url': 'https://instagram.fcxh2-1.fna.fbcdn.net/v/t51.2885-19/49667532_1990923264543653_8295266802900926464_n.jpg?stp=dst-jpg_s150x150&_nc_ht=instagram.fcxh2-1.fna.fbcdn.net&_nc_cat=105&_nc_ohc=EACHFwOHIgsAX9k-RMV&edm=AABBvjUBAAAA&ccb=7-5&oh=00_AfA3-QE675GD6bF60RuUvfFgS65oI-lmNM1oXHwQz8ST-w&oe=64CFDCA3&_nc_sid=4f4799',\n",
       "       'username': 'takecareofmyplant'},\n",
       "      'viewer_has_liked': False,\n",
       "      'edge_liked_by': {'count': 0},\n",
       "      'is_restricted_pending': False,\n",
       "      'edge_threaded_comments': {'count': 1,\n",
       "       'page_info': {'has_next_page': False, 'end_cursor': None},\n",
       "       'edges': [{'node': {'id': '17884593613362284',\n",
       "          'text': '@takecareofmyplant ??',\n",
       "          'created_at': 1560286297,\n",
       "          'did_report_as_spam': False,\n",
       "          'owner': {'id': '6811753985',\n",
       "           'is_verified': False,\n",
       "           'profile_pic_url': 'https://instagram.fcxh2-1.fna.fbcdn.net/v/t51.2885-19/83644819_2540120332777658_1006878748093448192_n.jpg?stp=dst-jpg_s150x150&_nc_ht=instagram.fcxh2-1.fna.fbcdn.net&_nc_cat=102&_nc_ohc=S0VsqTHWqj4AX86HxAn&edm=AABBvjUBAAAA&ccb=7-5&oh=00_AfB8haHg9tYuH1zgL2x2UtFJhWRApYGSPP2tj6zy8yVOJg&oe=64CF4FE7&_nc_sid=4f4799',\n",
       "           'username': 'techxxplanet'},\n",
       "          'viewer_has_liked': False,\n",
       "          'edge_liked_by': {'count': 0},\n",
       "          'is_restricted_pending': False}}]}}}]},\n",
       "  'edge_media_to_hoisted_comment': {'edges': []},\n",
       "  'edge_media_preview_comment': {'count': 2,\n",
       "   'edges': [{'node': {'id': '17951649553285017',\n",
       "      'text': '@techxxplanet',\n",
       "      'created_at': 1560286110,\n",
       "      'did_report_as_spam': False,\n",
       "      'owner': {'id': '10588706837',\n",
       "       'is_verified': False,\n",
       "       'profile_pic_url': 'https://instagram.fcxh2-1.fna.fbcdn.net/v/t51.2885-19/49667532_1990923264543653_8295266802900926464_n.jpg?stp=dst-jpg_s150x150&_nc_ht=instagram.fcxh2-1.fna.fbcdn.net&_nc_cat=105&_nc_ohc=EACHFwOHIgsAX9k-RMV&edm=AABBvjUBAAAA&ccb=7-5&oh=00_AfA3-QE675GD6bF60RuUvfFgS65oI-lmNM1oXHwQz8ST-w&oe=64CFDCA3&_nc_sid=4f4799',\n",
       "       'username': 'takecareofmyplant'},\n",
       "      'viewer_has_liked': False,\n",
       "      'edge_liked_by': {'count': 0},\n",
       "      'is_restricted_pending': False}},\n",
       "    {'node': {'id': '17884593613362284',\n",
       "      'text': '@takecareofmyplant ??',\n",
       "      'created_at': 1560286297,\n",
       "      'did_report_as_spam': False,\n",
       "      'owner': {'id': '6811753985',\n",
       "       'is_verified': False,\n",
       "       'profile_pic_url': 'https://instagram.fcxh2-1.fna.fbcdn.net/v/t51.2885-19/83644819_2540120332777658_1006878748093448192_n.jpg?stp=dst-jpg_s150x150&_nc_ht=instagram.fcxh2-1.fna.fbcdn.net&_nc_cat=102&_nc_ohc=S0VsqTHWqj4AX86HxAn&edm=AABBvjUBAAAA&ccb=7-5&oh=00_AfB8haHg9tYuH1zgL2x2UtFJhWRApYGSPP2tj6zy8yVOJg&oe=64CF4FE7&_nc_sid=4f4799',\n",
       "       'username': 'techxxplanet'},\n",
       "      'viewer_has_liked': False,\n",
       "      'edge_liked_by': {'count': 0},\n",
       "      'is_restricted_pending': False}}]},\n",
       "  'comments_disabled': False,\n",
       "  'commenting_disabled_for_viewer': False,\n",
       "  'taken_at_timestamp': 1560285876,\n",
       "  'edge_media_preview_like': {'count': 190, 'edges': []},\n",
       "  'edge_media_to_sponsor_user': {'edges': []},\n",
       "  'is_affiliate': False,\n",
       "  'is_paid_partnership': False,\n",
       "  'location': None,\n",
       "  'nft_asset_info': None,\n",
       "  'viewer_has_liked': False,\n",
       "  'viewer_has_saved': False,\n",
       "  'viewer_has_saved_to_collection': False,\n",
       "  'viewer_in_photo_of_you': False,\n",
       "  'viewer_can_reshare': True,\n",
       "  'owner': {'id': '6811753985',\n",
       "   'is_verified': False,\n",
       "   'profile_pic_url': 'https://instagram.fcxh2-1.fna.fbcdn.net/v/t51.2885-19/83644819_2540120332777658_1006878748093448192_n.jpg?stp=dst-jpg_s150x150&_nc_ht=instagram.fcxh2-1.fna.fbcdn.net&_nc_cat=102&_nc_ohc=S0VsqTHWqj4AX86HxAn&edm=AABBvjUBAAAA&ccb=7-5&oh=00_AfB8haHg9tYuH1zgL2x2UtFJhWRApYGSPP2tj6zy8yVOJg&oe=64CF4FE7&_nc_sid=4f4799',\n",
       "   'username': 'techxxplanet',\n",
       "   'blocked_by_viewer': False,\n",
       "   'restricted_by_viewer': None,\n",
       "   'followed_by_viewer': False,\n",
       "   'full_name': 'Tech Planet',\n",
       "   'has_blocked_viewer': False,\n",
       "   'is_embeds_disabled': False,\n",
       "   'is_private': False,\n",
       "   'is_unpublished': False,\n",
       "   'requested_by_viewer': False,\n",
       "   'pass_tiering_recommendation': True,\n",
       "   'edge_owner_to_timeline_media': {'count': 770},\n",
       "   'edge_followed_by': {'count': 4379}},\n",
       "  'is_ad': False,\n",
       "  'edge_web_media_to_related_media': {'edges': []},\n",
       "  'coauthor_producers': [],\n",
       "  'pinned_for_users': [],\n",
       "  'encoding_status': None,\n",
       "  'is_published': True,\n",
       "  'product_type': 'feed',\n",
       "  'title': '',\n",
       "  'video_duration': 10.933,\n",
       "  'thumbnail_src': 'https://instagram.fcxh2-1.fna.fbcdn.net/v/t51.2885-15/61627346_374578989892187_8693943222128921763_n.jpg?stp=c0.60.480.480a_dst-jpg_e35&_nc_ht=instagram.fcxh2-1.fna.fbcdn.net&_nc_cat=111&_nc_ohc=ARCX_Mg5v4cAX9X9h5W&edm=AABBvjUBAAAA&ccb=7-5&oh=00_AfD2bYnfyjxSpO7S8_7K6SOM8ma6B8UQgWdXwpx6hUZQKg&oe=64CCE79F&_nc_sid=4f4799',\n",
       "  'clips_music_attribution_info': None,\n",
       "  'edge_related_profiles': {'edges': []}}}"
      ]
     },
     "execution_count": 57,
     "metadata": {},
     "output_type": "execute_result"
    }
   ],
   "source": [
    "response['graphql']"
   ]
  },
  {
   "cell_type": "code",
   "execution_count": 42,
   "metadata": {},
   "outputs": [
    {
     "data": {
      "text/plain": [
       "['Cf7AuAWM27-',\n",
       " 'CfrMeokJ8cs',\n",
       " 'Cc8D67VgB3I',\n",
       " 'Ccr9DUYvQnm',\n",
       " 'Cck3WbTgvod',\n",
       " 'CcVjwr2Mt7O',\n",
       " 'CaPwRAgvFEF',\n",
       " 'CZCV9FShoe7',\n",
       " 'CWFs9m3jCUX',\n",
       " 'CVxPGnfvX9L',\n",
       " 'CVh8tDQMR5-',\n",
       " 'CVH4dh-gqc7']"
      ]
     },
     "execution_count": 42,
     "metadata": {},
     "output_type": "execute_result"
    }
   ],
   "source": [
    "[node['node']['shortcode'] for node in a['graphql']['user']['edge_felix_video_timeline']['edges']]"
   ]
  },
  {
   "cell_type": "code",
   "execution_count": 4,
   "metadata": {},
   "outputs": [],
   "source": [
    "from selenium import webdriver\n",
    "from selenium.webdriver import Chrome,ChromeOptions\n",
    "from selenium.webdriver.common.by import By\n",
    "cookies = pickle.load(open('lowlevel/ins_cookies.pkl','rb'))\n",
    "from lowlevel.main import prepare_driver\n",
    "driver = prepare_driver(cookies,1,False)[0]\n",
    "driver.get('https://www.instagram.com/p/BylVMcDgHkm/') "
   ]
  },
  {
   "cell_type": "code",
   "execution_count": 5,
   "metadata": {},
   "outputs": [
    {
     "name": "stdout",
     "output_type": "stream",
     "text": [
      "None\n",
      "https://www.instagram.com/techxxplanet/\n"
     ]
    }
   ],
   "source": [
    "container = driver.find_element(By.CLASS_NAME,'_aaqt')\n",
    "print(container.get_attribute('innerHtml'))\n",
    "print(container.find_element(By.TAG_NAME,'a').get_attribute('href'))"
   ]
  },
  {
   "cell_type": "code",
   "execution_count": 6,
   "metadata": {},
   "outputs": [],
   "source": [
    "driver.quit()"
   ]
  }
 ],
 "metadata": {
  "kernelspec": {
   "display_name": "Python 3",
   "language": "python",
   "name": "python3"
  },
  "language_info": {
   "codemirror_mode": {
    "name": "ipython",
    "version": 3
   },
   "file_extension": ".py",
   "mimetype": "text/x-python",
   "name": "python",
   "nbconvert_exporter": "python",
   "pygments_lexer": "ipython3",
   "version": "3.11.2"
  },
  "orig_nbformat": 4
 },
 "nbformat": 4,
 "nbformat_minor": 2
}
