{
 "cells": [
  {
   "cell_type": "code",
   "execution_count": 17,
   "metadata": {},
   "outputs": [],
   "source": [
    "import requests,json,glob,os\n",
    "\n",
    "files = glob.glob('out/photo/*') # 需先创建对应保存图片的文件夹\n",
    "for f in files:\n",
    "    os.remove(f)\n",
    "\n",
    "data = json.load(open('exp/no_filter_xhs_data.json','r')) #对应存储文字信息的json文档的相对路径\n",
    "pics = {}\n",
    "for post in data:\n",
    "    # print(post)\n",
    "    pics.update(post['content']['post']['picture'])\n",
    "\n",
    "for pic in pics.keys():\n",
    "    # print(pics[pic])\n",
    "    img = requests.get(pics[pic]).content\n",
    "    open('out/xhs/photo/%s.png'%pic,'wb').write(img) #保存图片的文件夹"
   ]
  }
 ],
 "metadata": {
  "kernelspec": {
   "display_name": "Python 3",
   "language": "python",
   "name": "python3"
  },
  "language_info": {
   "codemirror_mode": {
    "name": "ipython",
    "version": 3
   },
   "file_extension": ".py",
   "mimetype": "text/x-python",
   "name": "python",
   "nbconvert_exporter": "python",
   "pygments_lexer": "ipython3",
   "version": "3.11.2"
  },
  "orig_nbformat": 4
 },
 "nbformat": 4,
 "nbformat_minor": 2
}
