{
 "cells": [
  {
   "cell_type": "code",
   "execution_count": null,
   "metadata": {},
   "outputs": [],
   "source": [
    "from server import Scraper\n",
    "from queue import Queue\n",
    "from bs4 import BeautifulSoup as bs\n",
    "s = Scraper(1,1)\n",
    "# s.headers['headers']\n",
    "\n",
    "q = Queue()\n",
    "p = Queue()\n",
    "q.put('https://www.xiaohongshu.com/user/profile/55707a7462a60c528846d736')\n",
    "p.put({'userInfo':{'user-id':'adfasd'},'links':['/explore/611206df0000000021037225']})\n",
    "\n",
    "s.homePageScraper(q)\n",
    "# s.updateCookie('https://www.xiaohongshu.com/user/profile/55707a7462a60c528846d736')\n",
    "# s.userPageScraper(q,p,[])\n",
    "# s.postPageScrapers(p)"
   ]
  },
  {
   "cell_type": "code",
   "execution_count": null,
   "metadata": {},
   "outputs": [],
   "source": [
    "homefeed_headers ={\n",
    "  'authority': 'edith.xiaohongshu.com',\n",
    "  'accept': 'application/json, text/plain, */*',\n",
    "  'accept-language': 'en-US,en;q=0.9',\n",
    "  'content-type': 'application/json;charset=UTF-8',\n",
    "  'cookie': 'abRequestId=ef1bd787-1e79-58c8-8e89-8d418ad28617; webBuild=4.1.6; xsecappid=xhs-pc-web; a1=18d831d5293odpeew0f8ob347pawcu926mlx965b330000258170; webId=5c924541f0a24d617399187b0ef681d6; websectiga=3fff3a6f9f07284b62c0f2ebf91a3b10193175c06e4f71492b60e056edcdebb2; sec_poison_id=c2a0523a-307a-4bc6-90d2-14b0691016f3; gid=yYfYqyf2YYKjyYfYqyf2J6K2jqlfUddE8iYl1DqDq4WU0Cq8ES7jJj888J2YyW882iS2Sffy; web_session=030037a2f00f0f0d5613371dbb224a7353b69f; abRequestId=4cd36109-4b75-547a-be2a-9d570227b67a',\n",
    "  'origin': 'https://www.xiaohongshu.com',\n",
    "  'referer': 'https://www.xiaohongshu.com/',\n",
    "  'sec-ch-ua': '\"Not A(Brand\";v=\"99\", \"Google Chrome\";v=\"121\", \"Chromium\";v=\"121\"',\n",
    "  'sec-ch-ua-mobile': '?0',\n",
    "  'sec-ch-ua-platform': '\"macOS\"',\n",
    "  'sec-fetch-dest': 'empty',\n",
    "  'sec-fetch-mode': 'cors',\n",
    "  'sec-fetch-site': 'same-site',\n",
    "  'user-agent': 'Mozilla/5.0 (Macintosh; Intel Mac OS X 10_15_7) AppleWebKit/537.36 (KHTML, like Gecko) Chrome/121.0.0.0 Safari/537.36',\n",
    "  'x-b3-traceid': '6b69e4e4d5060a73',\n",
    "  'x-s': 'XYW_eyJzaWduU3ZuIjoiNTEiLCJzaWduVHlwZSI6IngxIiwiYXBwSWQiOiJ4aHMtcGMtd2ViIiwic2lnblZlcnNpb24iOiIxIiwicGF5bG9hZCI6ImFkNzNhMTA2MzNmOGM2MjM5MjUwODAwMDc4ODVjYjlmMjY5YzEwMmI4Zjc3MTEwN2NhYzVhZTc2NTczMWI2MjJlNDk3MWQ1ZWRhMWIzZGM4MjcyMGEyMjg2OTM2OGZiOWM5ZTNiZmRhMWZhYTFlYjkwZDc0YWEzMWI1NGM3MmNkMGQ3NGFhMzFiNTRjNzJjZGFjNDg5YjlkYThjZTVlNDhmNGFmYjlhY2ZjM2VhMjZmZTBiMjY2YTZiNGNjM2NiNWVkZWRiNWMzMWNhNTAzZWQ1Yzk1MzZlZDI4N2FjMjgxNmFhZjg1OTI5Yjc3OGEwMWIzYzQ5NGQ5YmYyY2Q4OGRmY2M0MWFmODgyM2FjMzM1OTM3ZWRhY2Y0ZDM0YWE0OWNmNDIxZWY1OWFjNGM2Y2JkNTRmY2M4YzkwZWY4NzcwMmFmZjc5NmFjMTU0ZDA0ZmFkNDUzMDBhMmNiMDdkYWU4NjczZTcwMTIyMjdlMjA0NzA0YmVlNTY4ZTIyODgwOCJ9',\n",
    "  'x-s-common': '2UQAPsHCPUIjqArjwjHjNsQhPsHCH0rjNsQhPaHCH0P1+jhhHjIj2eHjwjQ+GnPW/MPjNsQhPUHCHdYiqUMIGUM78nHjNsQh+sHCH0c1Pah9HjIj2eLjwjHlwBchPAbD+/HEP9RDqBpS4AmfwBRjPAc7qBb7G7LEP08TJoWE+0pjPAPIPeZIP0LhP/qIHjIj2eGjw0r7PeqAPer7+/G7w/DVHdW7H0ijnbSgg9pEadkYp9zMp/+y4LSxJ9Swprpk/r+t2fbg8opnaBl7nS+Q+DS187YQyg4knpYs4M+gLnSOyLiFGLY+4B+o/gzDPS8kanS7ynPUJBEjJbkVG9EwqBHU+BSOyLShanS7yn+oz0pjzASinD+Q+DSTzfTw2DEi/pzmPDMC/fMOzFFU/nk++LMxpg4Ozrb7/Lz0+rRrpfk8yflT/nk8+pSCzg4+JLDFnfk0PFMLzg4wPDEingknybkLGAQwpB+C/p4QPDMxaflwzBVA/p4zPpkgLfY+pFSCnD4++rMxG7S+zFpE/nkdPDRL//QOzMkk/M4++pkL/fSyJpQi/p4yybSLzfl8yfT7nDz0PbSgzgk+pFDl/D4+PFMT/fT+zMrA/D4ByrMCzfSwpbQx/dktySkozfkwzBqMnnkVyMSLyBkypb8V/DziJLEozfM8yflin/QyyDFUpfY+ySkTnSzsyLMxn/Q8pbkk/D4wyDFU/fSwpM83nS4ayLEg/gk+pFEi/Szm2SkgL/b82fVl/gkyJbkra/zwPD8x/nkd2rETzfYyyfql/MzQ+pSxGA+OzFp7/p4Q2SSCL/pwzMrMnnM82pDUL/zOzMQTn/Q+PrMgzfMOzB4E//QByDMC//bOprFAnS4aybDUn/myzrFInp4bPrRg/fMwzrShnS48PLRgzfkwzFFUn/QtyFELLfM8PDFFngk34Mkgn/zw2f+7/nMBJpkxGApwJL8x/pzpPbkrc/myJL83/Dzp2DMrcfY+JLEk/LzDyMSgp/zwyf+CnSz04FMLagS+yfzV/nkmPrECc/m8Jp8V/Sz8+bkLagSOzB47/F+twaHVHdWhH0ija/PhqDYD87+xJ7mdag8Sq9zn494QcUT6aLpPJLQy+nLApd4G/B4BprShLA+jqg4bqD8S8gYDPBp3Jf+m2DMBnnEl4BYQyrkSL9E+zrTM4bQQPFTAnnRUpFYc4r4UGSGILeSg8DSkN9pgGA8SngbF2pbmqbmQPA4Sy9MaPpbPtApQy/8A8BE68p+fqpSHqg4VPdbF+LQfqLkQ4D8j/DlztMkc4A4Q2BzA2op7q0zl4BTQy7Q7anD6q9TyGA+QcFlDa/+O8/mM4BIUcLzyqFIM8Lz/ad+/Lo4GaLp9q9Sn4rkOLoqhcdp78SmI8BpLzb4OagWFpDSk4/8yLo4jadbFPrShaoS6/LbSpdpFpFS94dPlpdz1anD3aFSb2fbSJA8APeSoPnLI+g+84gzFqfQ68/mBzS4IwLTSPbSlLLShN9prLo4TanSt8n8l4rbCnS8n/7+M4FDA8BpL4gzmNMS98/G720YQybS0aLp+zFY6qS+QP7ZhwrS88FSbyrSs4g4/aL+ipjV6a9pDqepSP7bF4LDA+d+xG/4APB8H+rS3+npkqfFMa7b78DSka7+LJ78SPp+NqA+c4MmT8LRS8ob7pDDA+rlYp/8SL7b7y7kd8o+gpdc3a/+3aFShJnzAqgzTqSmFcfE1a/zTcLbAzB8d8gYn49QQyrkS8BEOq7YCn0FjNsQhwaHCP/rl+0PIweHFwaIj2erIH0il+dF=',\n",
    "  'x-t': '1707301756799'\n",
    "}\n",
    "payload = \"{\\\"cursor_score\\\":\\\"\\\",\\\"num\\\":31,\\\"refresh_type\\\":1,\\\"note_index\\\":0,\\\"unread_begin_note_id\\\":\\\"\\\",\\\"unread_end_note_id\\\":\\\"\\\",\\\"unread_note_count\\\":0,\\\"category\\\":\\\"homefeed_recommend\\\",\\\"search_key\\\":\\\"\\\",\\\"need_num\\\":6,\\\"image_formats\\\":[\\\"jpg\\\",\\\"webp\\\",\\\"avif\\\"]}\"\n",
    "comment_feeds ={}\n",
    "\n",
    "x = {'x-b3-traceid': homefeed_headers[\"x-b3-traceid\"],\n",
    "  'x-s': homefeed_headers[\"x-s\"], \n",
    "  'x-s-common':homefeed_headers[\"x-s-common\"],\n",
    "  'x-t':homefeed_headers[\"x-t\"]} #homefeed\n",
    "sss ={'x-b3-traceid': 'f433a53e8132d69a',\n",
    "  'x-s': 'XYW_eyJzaWduU3ZuIjoiNTEiLCJzaWduVHlwZSI6IngxIiwiYXBwSWQiOiJ4aHMtcGMtd2ViIiwic2lnblZlcnNpb24iOiIxIiwicGF5bG9hZCI6IjhmYTllZGQxZWEzMDM0NmVmOGJmZjUxMTI1MjBiOTFhMjA5MzYxMzQwMzVmZDFiNWVmZmNjYWZjMTZlNGRmOGIwNTNhYzMzZTM3Y2UwNzk4NWZkNzNkNDI4MjAzNWI4NmM5ZTNiZmRhMWZhYTFlYjkwZDc0YWEzMWI1NGM3MmNkMGQ3NGFhMzFiNTRjNzJjZGFjNDg5YjlkYThjZTVlNDhmNGFmYjlhY2ZjM2VhMjZmZTBiMjY2YTZiNGNjM2NiNTI4YTQ2MWE0YTE5NDA1YTEzNmQwM2U3YzgxM2VkZDI5NWI4MDJlMTcyMGZiN2JhMmQ0ODFmYzdiY2JlMmIxMjNiN2RkNzk0ZjZhODRhNmJmODRlZmRhZGE1OGNiMTg5NGQ3YWFhNGQxNDM4MjA0ZDIzZDdkMDJjNzdiYWFlNjViMjEyZmNmM2VmM2U2ZTFiZGFkNDUzMDBhMmNiMDdkYWU3MGY3Yzc2OTA0OWQ1MmQ4ZDU4ZTNmYWEyNjczZWMwZSJ9',\n",
    "  'x-s-common': '2UQAPsHCPUIjqArjwjHjNsQhPsHCH0rjNsQhPaHCH0P1+jhhHjIj2eHjwjQ+GnPW/MPjNsQhPUHCHdYiqUMIGUM78nHjNsQh+sHCH0c1Pah9HjIj2eLjwjHlwBchPe4Y8/cF8gZFq0p3y98T2BIl49YiyBkd+fbhq0bjqnTh+7cI4/PIPeZIP/PM+0GMHjIj2eGjw0r7PeqU+/W7+0rIw/WVHdW7H0ijnbSgg9pEadkYp9zMp/+y4LSxJ9Swprpk/r+t2fbg8opnaBl7nS+Q+DS187YQyg4knpYs4M+gLnSOyLiFGLY+4B+o/gzDPS8kanS7ynPUJBEjJbkVG9EwqBHU+BSOyLShanS7yn+oz0pjzASinD+Q+DSxyBM8pBlVnD4z2bkgzgk+zrFI/fMnJLRoafMyySph/pzQPLMxcfSOpr8i/nkm+LMCngY+2Sb7/gknJpkrzfSwpM8TnfMwySSgnfk+pbkV/D4aJLRoag4wprEingk+2SkL//+8PSp7/dk3+rEgnfTw2DE3/DzQ+rMxcgkwpFDF/fM++pkL/fSyJpQi/p4yybSLzfl8yfT7nDz0PbSgzgk+pFDl/D4+PFMT/fT+zMrA/D4ByrMCzfSwpbQx/dktySkozfkwzBqMnnkVyMSLyBkypb8V/DziJLEozfM8yflin/QyyDFUpfY+ySkTnSzsyLMxn/Q8pbkk/D4wyDFU/fSwprDFnpzzPDMgz/m8prLM/DzmPpSLzgkwJpb7//QpPMSC87Y+PS83nDzQ+LEga/z+zrkV/pz02LMonfSwPDki/nMzPrRrzfM82fzkn/QtJrMTagY+yDEk/0QayFECyAmyySki/FzayrETafMOzbQVnfMaybkoz/bOzFEk/pzd+LEoL/+8pF8i/D4z2rEr//z+yDrInDzQ2Skr8BT+zrkx/dkDypSgzflwyS8k/nkb2pkT/fM+PS8T//QpPSkLzfSyzF83/Dzp2DMrcfY+JLEk/LzDyMSgp/++zMDAngk0PDRLc/mOpMrl/nMz+bkrp/zyprETnp4b2LExG7kypFM7nS+twaHVHdWhH0ija/PhqDYD87+xJ7mdag8Sq9zn494QcUT6aLpPJLQy+nLApd4G/B4BprShLA+jqg4bqD8S8gYDPBp3Jf+m2DMBnnEl4BYQyrkSL98+zrTM4bQQPFTAnnRUpFYc4r4UGSGILeSg8DSkN9pgGA8SngbF2pbmqbmQPA4Sy9MaPpbPtApQy/8A8BE68p+fqpSHqg4VPdbF+LQfqLkQ4D8j/DlztMkc4A4Q2BzA2op7q0zl4BTQy7Q7anD6q9TyGA+QcFlDa/+O8/mM4BIUcLzyqFIM8Lz/ad+/Lo4GaLp9q9Sn4rkOLoqhcdp78SmI8BpLzb4OagWFpDSk4/8yLo4jadbFPrShaoS6/LbSpdpFpFS94dPlLoz1anD3aFSb2fbSJA8APeSoPnLI+g+84gzFqfQ68/mBzS4IwLTSPbSlLLShN9prLo4TanSt8n8l4rbCnS8n/7+M4FDA8BpL4gzmNMS98/G720YQyb+IaLpCzFW7/BTQPMPFwrS88FSbyrSs4g4/aL+ipjV6a9pDqepSP7bF4LDA+d+xG/4APB8H+rS3+npkqfFMa7b78DSka7+LJ78SPp+NqA+c4MmT8LRS8ob7pDDA+rlYp/8SL7b7y7mf/d+rLo4Aa/+VNFDAy7Y6qg4FGgp7JDH6G9EE/nRAyfbOq9Tn4sTQyURSzBb9qA8jGM4QyLbAydH9qA+sp04Qy9RSpb8FpFS3/rMcqg4w/dpFPLDA/9LlqgzfanTNqM8l49SQzg8A8b8FJozl49ES4g4maL+kcFShzBEocDSr+rS68/+M4rSQybmNanD98pSM4MbyGDplJ0ZIq9kSab+QzpSNLb87Lg+M4BbQyFkSpSm7zrTg87+3naRS+fQi/jHVHdWEH0iTP/HA+/GAweP7waIj2erIH0iU+oF=',\n",
    "  'x-t': '1707258761098'} # comment"
   ]
  },
  {
   "cell_type": "code",
   "execution_count": null,
   "metadata": {},
   "outputs": [],
   "source": [
    "from server import Scraper\n",
    "import requests\n",
    "# url = 'https://edith.xiaohongshu.com/api/sns/web/v2/comment/page?note_id=65b1e4fa000000000c006274&cursor=&top_comment_id=&image_formats=jpg,webp,avif'\n",
    "url = \"https://edith.xiaohongshu.com/api/sns/web/v1/homefeed\"\n",
    "s = Scraper(1,1)\n",
    "header = s.headers['jsonHeaders']\n",
    "\n",
    "x = {'x-b3-traceid': homefeed_headers[\"x-b3-traceid\"],\n",
    "  'x-s': homefeed_headers[\"x-s\"], \n",
    "  'x-s-common':homefeed_headers[\"x-s-common\"],\n",
    "  'x-t':homefeed_headers[\"x-t\"]} #homefeed\n",
    "\n",
    "sss ={'x-b3-traceid': 'f433a53e8132d69a',\n",
    "  'x-s': 'XYW_eyJzaWduU3ZuIjoiNTEiLCJzaWduVHlwZSI6IngxIiwiYXBwSWQiOiJ4aHMtcGMtd2ViIiwic2lnblZlcnNpb24iOiIxIiwicGF5bG9hZCI6IjhmYTllZGQxZWEzMDM0NmVmOGJmZjUxMTI1MjBiOTFhMjA5MzYxMzQwMzVmZDFiNWVmZmNjYWZjMTZlNGRmOGIwNTNhYzMzZTM3Y2UwNzk4NWZkNzNkNDI4MjAzNWI4NmM5ZTNiZmRhMWZhYTFlYjkwZDc0YWEzMWI1NGM3MmNkMGQ3NGFhMzFiNTRjNzJjZGFjNDg5YjlkYThjZTVlNDhmNGFmYjlhY2ZjM2VhMjZmZTBiMjY2YTZiNGNjM2NiNTI4YTQ2MWE0YTE5NDA1YTEzNmQwM2U3YzgxM2VkZDI5NWI4MDJlMTcyMGZiN2JhMmQ0ODFmYzdiY2JlMmIxMjNiN2RkNzk0ZjZhODRhNmJmODRlZmRhZGE1OGNiMTg5NGQ3YWFhNGQxNDM4MjA0ZDIzZDdkMDJjNzdiYWFlNjViMjEyZmNmM2VmM2U2ZTFiZGFkNDUzMDBhMmNiMDdkYWU3MGY3Yzc2OTA0OWQ1MmQ4ZDU4ZTNmYWEyNjczZWMwZSJ9',\n",
    "  'x-s-common': '2UQAPsHCPUIjqArjwjHjNsQhPsHCH0rjNsQhPaHCH0P1+jhhHjIj2eHjwjQ+GnPW/MPjNsQhPUHCHdYiqUMIGUM78nHjNsQh+sHCH0c1Pah9HjIj2eLjwjHlwBchPe4Y8/cF8gZFq0p3y98T2BIl49YiyBkd+fbhq0bjqnTh+7cI4/PIPeZIP/PM+0GMHjIj2eGjw0r7PeqU+/W7+0rIw/WVHdW7H0ijnbSgg9pEadkYp9zMp/+y4LSxJ9Swprpk/r+t2fbg8opnaBl7nS+Q+DS187YQyg4knpYs4M+gLnSOyLiFGLY+4B+o/gzDPS8kanS7ynPUJBEjJbkVG9EwqBHU+BSOyLShanS7yn+oz0pjzASinD+Q+DSxyBM8pBlVnD4z2bkgzgk+zrFI/fMnJLRoafMyySph/pzQPLMxcfSOpr8i/nkm+LMCngY+2Sb7/gknJpkrzfSwpM8TnfMwySSgnfk+pbkV/D4aJLRoag4wprEingk+2SkL//+8PSp7/dk3+rEgnfTw2DE3/DzQ+rMxcgkwpFDF/fM++pkL/fSyJpQi/p4yybSLzfl8yfT7nDz0PbSgzgk+pFDl/D4+PFMT/fT+zMrA/D4ByrMCzfSwpbQx/dktySkozfkwzBqMnnkVyMSLyBkypb8V/DziJLEozfM8yflin/QyyDFUpfY+ySkTnSzsyLMxn/Q8pbkk/D4wyDFU/fSwprDFnpzzPDMgz/m8prLM/DzmPpSLzgkwJpb7//QpPMSC87Y+PS83nDzQ+LEga/z+zrkV/pz02LMonfSwPDki/nMzPrRrzfM82fzkn/QtJrMTagY+yDEk/0QayFECyAmyySki/FzayrETafMOzbQVnfMaybkoz/bOzFEk/pzd+LEoL/+8pF8i/D4z2rEr//z+yDrInDzQ2Skr8BT+zrkx/dkDypSgzflwyS8k/nkb2pkT/fM+PS8T//QpPSkLzfSyzF83/Dzp2DMrcfY+JLEk/LzDyMSgp/++zMDAngk0PDRLc/mOpMrl/nMz+bkrp/zyprETnp4b2LExG7kypFM7nS+twaHVHdWhH0ija/PhqDYD87+xJ7mdag8Sq9zn494QcUT6aLpPJLQy+nLApd4G/B4BprShLA+jqg4bqD8S8gYDPBp3Jf+m2DMBnnEl4BYQyrkSL98+zrTM4bQQPFTAnnRUpFYc4r4UGSGILeSg8DSkN9pgGA8SngbF2pbmqbmQPA4Sy9MaPpbPtApQy/8A8BE68p+fqpSHqg4VPdbF+LQfqLkQ4D8j/DlztMkc4A4Q2BzA2op7q0zl4BTQy7Q7anD6q9TyGA+QcFlDa/+O8/mM4BIUcLzyqFIM8Lz/ad+/Lo4GaLp9q9Sn4rkOLoqhcdp78SmI8BpLzb4OagWFpDSk4/8yLo4jadbFPrShaoS6/LbSpdpFpFS94dPlLoz1anD3aFSb2fbSJA8APeSoPnLI+g+84gzFqfQ68/mBzS4IwLTSPbSlLLShN9prLo4TanSt8n8l4rbCnS8n/7+M4FDA8BpL4gzmNMS98/G720YQyb+IaLpCzFW7/BTQPMPFwrS88FSbyrSs4g4/aL+ipjV6a9pDqepSP7bF4LDA+d+xG/4APB8H+rS3+npkqfFMa7b78DSka7+LJ78SPp+NqA+c4MmT8LRS8ob7pDDA+rlYp/8SL7b7y7mf/d+rLo4Aa/+VNFDAy7Y6qg4FGgp7JDH6G9EE/nRAyfbOq9Tn4sTQyURSzBb9qA8jGM4QyLbAydH9qA+sp04Qy9RSpb8FpFS3/rMcqg4w/dpFPLDA/9LlqgzfanTNqM8l49SQzg8A8b8FJozl49ES4g4maL+kcFShzBEocDSr+rS68/+M4rSQybmNanD98pSM4MbyGDplJ0ZIq9kSab+QzpSNLb87Lg+M4BbQyFkSpSm7zrTg87+3naRS+fQi/jHVHdWEH0iTP/HA+/GAweP7waIj2erIH0iU+oF=',\n",
    "  'x-t': '1707258761098'} # comment\n",
    "\n",
    "# headers.update(s.headers['x'])\n",
    "header.update(x)\n",
    "header['content-type']=s.headers['content_type']\n",
    "header['cookie'] = s.headers['cookie']\n",
    "\n",
    "response = requests.post(url,headers=homefeed_headers,data=payload).json()\n",
    "print(response)\n",
    "for i in response['data']['items']:\n",
    "\tprint(i['note_card']['user']['user_id'])\n",
    "# requests.get(url,headers=header).content.decode('utf-8')"
   ]
  },
  {
   "cell_type": "code",
   "execution_count": null,
   "metadata": {},
   "outputs": [],
   "source": [
    "import json\n",
    "h= json.load(open('headers.json','r'))\n",
    "h['homeFeed_x'] = x\n",
    "h['comment_x'] = sss\n",
    "h['cookie'] = homefeed_headers['cookie']\n",
    "h['payload'] = payload\n",
    "open('headers.json','w').write(json.dumps(h,indent=4))"
   ]
  },
  {
   "cell_type": "code",
   "execution_count": null,
   "metadata": {},
   "outputs": [],
   "source": [
    "from copy import deepcopy\n",
    "import requests\n",
    "from server import Scraper\n",
    "from bs4 import BeautifulSoup as bs\n",
    "s = Scraper(1,1)\n",
    "headers = deepcopy(s.headers['htmlHeaders'])\n",
    "\n",
    "# url = 'https://www.xiaohongshu.com/user/profile/55707a7462a60c528846d736'\n",
    "url = 'https://www.xiaohongshu.com/explore'\n",
    "requests.get(url,headers = headers).status_code == 200\n",
    "hd= requests.get(url,headers = headers).headers\n",
    "print(hd)\n",
    "ad = hd['Set-Cookie'].split('; ')[0]\n",
    "res = [ad] + s.headers['cookie'].split('; ')[1:]\n",
    "# res = ad\n",
    "nc = '; '.join(res)\n",
    "\n",
    "headers['cookie'] = s.headers['cookie']\n",
    "print(headers)\n",
    "# requests.get(url,headers=nh).headers\n",
    "html = bs(requests.get(url,headers=headers).content,'html.parser')\n",
    "# userlinks = ['https://www.xiaohongshu.com'+title['href']for title in html.findAll('a',class_='author')]\n",
    "# userlinks\n",
    "print(html.prettify())\n",
    "\n",
    "# open('a.html','w').write(html.prettify())"
   ]
  },
  {
   "cell_type": "code",
   "execution_count": null,
   "metadata": {},
   "outputs": [],
   "source": [
    "ad = hd['Set-Cookie'].split('; ')[0]\n",
    "res = [ad] + s.headers['cookie'].split('; ')[1:]\n",
    "'; '.join(res)"
   ]
  },
  {
   "cell_type": "code",
   "execution_count": null,
   "metadata": {},
   "outputs": [],
   "source": [
    "# a1='18d9ff21e26vyrkayfy6e21o71ymxonqh2rvmehws30000301991'\n",
    "# webId='daf11ec483d1996bf1da622ff0275c0'\n",
    "# gid='yYfjiiJJqSxdyYfjiiJydJdxJKhvFT0vivKdFEMJylWyvhq86ClIA6888q8yjjy8DijJ40di'\n",
    "# web_session='030037a2f9e88223e9e2bbfab2224af9e045f6' \n",
    "# websectiga='984412fef754c018e472127b8effd174be8a5d51061c991aadd200c69a2801d6'\n",
    "# sec_poison_id='0156bcbc-d79b-4555-bba2-8e33106e0eab'\n",
    "# print(len(a1),len(webId),len(gid),len(web_session),len(websectiga),len(sec_poison_id))\n",
    "\n",
    "\n",
    "import random,string,requests,json\n",
    "from bs4 import BeautifulSoup as bs\n",
    "url = \"https://www.xiaohongshu.com/explore\"\n",
    "headers = json.load(open('headers.json','r'))\n",
    "response= requests.get(url,headers = headers['htmlHeaders'])\n",
    "newAd = response.headers['Set-Cookie'].split('; ')[0]\n",
    "newCookie = newAd + '; ' + 'webBuild=4.1.7; xsecappid=xhs-pc-web; '\n",
    "# newCookie = '; '.join(newCookie)\n",
    "lengths = [52,31,72,38,64,36]\n",
    "a = ['a1','webId','gid','web_session','websectiga','sec_poison_id']\n",
    "exp =[]\n",
    "result = newCookie\n",
    "for length in lengths:\n",
    "   exp.append(''.join(random.choice(string.ascii_lowercase+string.ascii_uppercase+string.digits) for _ in range(length)))\n",
    "for i in range(len(a)):\n",
    "   result += a[i]+'='+exp[i]+'; '\n",
    "result\n",
    "# print('fasdfad ',newCookie)  \n",
    "header = headers['htmlHeaders']\n",
    "header['cookie'] = result\n",
    "# response.headers\n",
    "print(bs(requests.get(url,headers = header).content,'html.parser').prettify())"
   ]
  },
  {
   "cell_type": "code",
   "execution_count": 10,
   "metadata": {},
   "outputs": [],
   "source": [
    "url = 'https://edith.xiaohongshu.com/api/sns/web/v2/comment/page?note_id=616645ba0000000021035e4a&cursor=&top_comment_id=&image_formats=jpg,webp,avif'\n",
    "import json\n",
    "headers = json.load(open('headers.json','r'))\n",
    "header = headers['htmlHeaders']\n",
    "header['cookie'] = headers['cookie']\n",
    "import requests\n",
    "comments = requests.get(url,headers=header).json()['data']"
   ]
  },
  {
   "cell_type": "code",
   "execution_count": 14,
   "metadata": {},
   "outputs": [
    {
     "data": {
      "text/plain": [
       "{'liked': False,\n",
       " 'sub_comments': [{'note_id': '616645ba0000000021035e4a',\n",
       "   'status': 0,\n",
       "   'content': '哈哈哈哈哈哈哈我没想到啊',\n",
       "   'at_users': [],\n",
       "   'liked': False,\n",
       "   'user_info': {'user_id': '5cea1d72000000001101a0e7',\n",
       "    'nickname': '01_',\n",
       "    'image': 'https://sns-avatar-qc.xhscdn.com/avatar/6091f8fdc5a293375b0d3550.jpg?imageView2/2/w/120/format/jpg'},\n",
       "   'id': '616bb5a90000000001029951',\n",
       "   'like_count': '100+',\n",
       "   'show_tags': [],\n",
       "   'create_time': 1634448809000,\n",
       "   'target_comment': {'id': '616b2bd4000000000102b506',\n",
       "    'user_info': {'user_id': '5aa979b611be1016eaada6a3',\n",
       "     'nickname': 'Tuzi06',\n",
       "     'image': 'https://sns-avatar-qc.xhscdn.com/avatar/5f6831a8bce84500016a6250.jpg?imageView2/2/w/120/format/jpg'}}}],\n",
       " 'sub_comment_cursor': '616bb5a90000000001029951',\n",
       " 'at_users': [],\n",
       " 'like_count': '1k+',\n",
       " 'user_info': {'user_id': '5aa979b611be1016eaada6a3',\n",
       "  'nickname': 'Tuzi06',\n",
       "  'image': 'https://sns-avatar-qc.xhscdn.com/avatar/5f6831a8bce84500016a6250.jpg?imageView2/2/w/120/format/jpg'},\n",
       " 'sub_comment_has_more': True,\n",
       " 'note_id': '616645ba0000000021035e4a',\n",
       " 'show_tags': [],\n",
       " 'sub_comment_count': '100+',\n",
       " 'id': '616b2bd4000000000102b506',\n",
       " 'status': 0,\n",
       " 'content': '第三题不应该是“你他吗知道在哪儿？”[doge]',\n",
       " 'create_time': 1634413524000}"
      ]
     },
     "execution_count": 14,
     "metadata": {},
     "output_type": "execute_result"
    }
   ],
   "source": [
    "comments['comments'][0]"
   ]
  },
  {
   "cell_type": "code",
   "execution_count": 5,
   "metadata": {},
   "outputs": [
    {
     "name": "stdout",
     "output_type": "stream",
     "text": [
      "2024-02-16 17:14:09.673327 \n",
      "\n",
      "49207 post need be scrapped\n"
     ]
    }
   ],
   "source": [
    "from server import Scraper\n",
    "from queue import Queue\n",
    "s = Scraper(1,1)\n",
    "p = Queue()\n",
    "import requests,time\n",
    "for _ in range(100):\n",
    "    time.sleep(0)\n",
    "    requests.post(f\"http://127.0.0.1:3001/insert\",json = {'id':'posts','data':{}})       \n",
    "s.homePageScraper(p)"
   ]
  }
 ],
 "metadata": {
  "kernelspec": {
   "display_name": "Python 3",
   "language": "python",
   "name": "python3"
  },
  "language_info": {
   "codemirror_mode": {
    "name": "ipython",
    "version": 3
   },
   "file_extension": ".py",
   "mimetype": "text/x-python",
   "name": "python",
   "nbconvert_exporter": "python",
   "pygments_lexer": "ipython3",
   "version": "3.11.2"
  }
 },
 "nbformat": 4,
 "nbformat_minor": 2
}
