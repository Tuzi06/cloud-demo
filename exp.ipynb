{
 "cells": [
  {
   "cell_type": "code",
   "execution_count": null,
   "metadata": {},
   "outputs": [],
   "source": [
    "import requests,json\n",
    "from bs4 import BeautifulSoup as bs\n",
    "header= json.load(open('headers.json','r'))['htmlHeaders']\n",
    "cookies = json.load(open('cookies.json','r'))\n",
    "url = 'https://www.xiaohongshu.com/explore'\n",
    "requests.get(url,headers=header)\n",
    "for cookie in cookies:\n",
    "    header['cookie'] = cookie\n",
    "    html = bs(requests.get(url,headers=header).content,'html.parser')\n",
    "    print(len(html.findAll('a',class_='author')))"
   ]
  },
  {
   "cell_type": "code",
   "execution_count": null,
   "metadata": {},
   "outputs": [],
   "source": [
    "from selenium.webdriver import Chrome,ChromeOptions\n",
    "from selenium.webdriver.chrome.service import Service\n",
    "import time,json,sys\n",
    "if sys.platform == 'linux':\n",
    "    service = Service(executable_path= './drivers/chromedriver-linux64/chromedriver')\n",
    "elif sys.platform == 'darwin':\n",
    "    service = Service(executable_path='./drivers/chromedriver-mac-arm64/chromedriver')\n",
    "options =ChromeOptions()\n",
    "options.add_argument('disable-blink-features=AutomationControlled')\n",
    "# options.add_argument('headless')\n",
    "cookies = []\n",
    "# for h in hs[1:-1]:\n",
    "#     ls.append(h.split('; ')[1])\n",
    "for _ in range(20):\n",
    "    driver = Chrome(options = options,service=service)\n",
    "    driver.get('https://www.xiaohongshu.com/explore')\n",
    "    time.sleep(10)\n",
    "    cs = driver.get_cookies()\n",
    "    t = dict()\n",
    "    s = ''\n",
    "    ls = ['abRequestId','webBuild','xsecappid','a1','webId','websectiga','sec_poison_id','gid','web_session']\n",
    "    for c in cs:\n",
    "       t[c['name']] = c['value']\n",
    "    for l in ls:\n",
    "        s+= l+'='+t[l]+'; '\n",
    "    print(s)\n",
    "    cookies.append(s)\n",
    "    driver.quit()\n",
    "open('cookies.json','w').write(json.dumps(cookies,indent=4))"
   ]
  }
 ],
 "metadata": {
  "kernelspec": {
   "display_name": "Python 3",
   "language": "python",
   "name": "python3"
  },
  "language_info": {
   "codemirror_mode": {
    "name": "ipython",
    "version": 3
   },
   "file_extension": ".py",
   "mimetype": "text/x-python",
   "name": "python",
   "nbconvert_exporter": "python",
   "pygments_lexer": "ipython3",
   "version": "3.11.2"
  }
 },
 "nbformat": 4,
 "nbformat_minor": 2
}
